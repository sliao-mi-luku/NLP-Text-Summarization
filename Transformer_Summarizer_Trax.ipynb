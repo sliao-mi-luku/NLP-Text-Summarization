{
  "nbformat": 4,
  "nbformat_minor": 0,
  "metadata": {
    "colab": {
      "name": "Transformer_Summarizer_Trax.ipynb",
      "provenance": [],
      "collapsed_sections": [],
      "toc_visible": true,
      "machine_shape": "hm"
    },
    "kernelspec": {
      "name": "python3",
      "display_name": "Python 3"
    },
    "accelerator": "GPU",
    "widgets": {
      "application/vnd.jupyter.widget-state+json": {
        "bf135da14ed44783aff5558170cdbd31": {
          "model_module": "@jupyter-widgets/controls",
          "model_name": "HBoxModel",
          "state": {
            "_view_name": "HBoxView",
            "_dom_classes": [],
            "_model_name": "HBoxModel",
            "_view_module": "@jupyter-widgets/controls",
            "_model_module_version": "1.5.0",
            "_view_count": null,
            "_view_module_version": "1.5.0",
            "box_style": "",
            "layout": "IPY_MODEL_ad2b179af8344f5c8f95831eff7f4de9",
            "_model_module": "@jupyter-widgets/controls",
            "children": [
              "IPY_MODEL_685f727ca4bd4bacbc8308c657c810c9",
              "IPY_MODEL_6af506ad48f942abbab0c3f2f720af7c"
            ]
          }
        },
        "ad2b179af8344f5c8f95831eff7f4de9": {
          "model_module": "@jupyter-widgets/base",
          "model_name": "LayoutModel",
          "state": {
            "_view_name": "LayoutView",
            "grid_template_rows": null,
            "right": null,
            "justify_content": null,
            "_view_module": "@jupyter-widgets/base",
            "overflow": null,
            "_model_module_version": "1.2.0",
            "_view_count": null,
            "flex_flow": null,
            "width": null,
            "min_width": null,
            "border": null,
            "align_items": null,
            "bottom": null,
            "_model_module": "@jupyter-widgets/base",
            "top": null,
            "grid_column": null,
            "overflow_y": null,
            "overflow_x": null,
            "grid_auto_flow": null,
            "grid_area": null,
            "grid_template_columns": null,
            "flex": null,
            "_model_name": "LayoutModel",
            "justify_items": null,
            "grid_row": null,
            "max_height": null,
            "align_content": null,
            "visibility": null,
            "align_self": null,
            "height": null,
            "min_height": null,
            "padding": null,
            "grid_auto_rows": null,
            "grid_gap": null,
            "max_width": null,
            "order": null,
            "_view_module_version": "1.2.0",
            "grid_template_areas": null,
            "object_position": null,
            "object_fit": null,
            "grid_auto_columns": null,
            "margin": null,
            "display": null,
            "left": null
          }
        },
        "685f727ca4bd4bacbc8308c657c810c9": {
          "model_module": "@jupyter-widgets/controls",
          "model_name": "FloatProgressModel",
          "state": {
            "_view_name": "ProgressView",
            "style": "IPY_MODEL_78fe6e231e894c4fbf59868a16f9302a",
            "_dom_classes": [],
            "description": "Dl Completed...: 100%",
            "_model_name": "FloatProgressModel",
            "bar_style": "success",
            "max": 1,
            "_view_module": "@jupyter-widgets/controls",
            "_model_module_version": "1.5.0",
            "value": 1,
            "_view_count": null,
            "_view_module_version": "1.5.0",
            "orientation": "horizontal",
            "min": 0,
            "description_tooltip": null,
            "_model_module": "@jupyter-widgets/controls",
            "layout": "IPY_MODEL_b881dfb955124444845ab7a5a3326ef3"
          }
        },
        "6af506ad48f942abbab0c3f2f720af7c": {
          "model_module": "@jupyter-widgets/controls",
          "model_name": "HTMLModel",
          "state": {
            "_view_name": "HTMLView",
            "style": "IPY_MODEL_12dfab024d6d4854b9a077604b55d62f",
            "_dom_classes": [],
            "description": "",
            "_model_name": "HTMLModel",
            "placeholder": "​",
            "_view_module": "@jupyter-widgets/controls",
            "_model_module_version": "1.5.0",
            "value": " 5/5 [01:21&lt;00:00, 16.40s/ url]",
            "_view_count": null,
            "_view_module_version": "1.5.0",
            "description_tooltip": null,
            "_model_module": "@jupyter-widgets/controls",
            "layout": "IPY_MODEL_618d6fd63be74b3799e8fafe1ea6a4e4"
          }
        },
        "78fe6e231e894c4fbf59868a16f9302a": {
          "model_module": "@jupyter-widgets/controls",
          "model_name": "ProgressStyleModel",
          "state": {
            "_view_name": "StyleView",
            "_model_name": "ProgressStyleModel",
            "description_width": "initial",
            "_view_module": "@jupyter-widgets/base",
            "_model_module_version": "1.5.0",
            "_view_count": null,
            "_view_module_version": "1.2.0",
            "bar_color": null,
            "_model_module": "@jupyter-widgets/controls"
          }
        },
        "b881dfb955124444845ab7a5a3326ef3": {
          "model_module": "@jupyter-widgets/base",
          "model_name": "LayoutModel",
          "state": {
            "_view_name": "LayoutView",
            "grid_template_rows": null,
            "right": null,
            "justify_content": null,
            "_view_module": "@jupyter-widgets/base",
            "overflow": null,
            "_model_module_version": "1.2.0",
            "_view_count": null,
            "flex_flow": null,
            "width": null,
            "min_width": null,
            "border": null,
            "align_items": null,
            "bottom": null,
            "_model_module": "@jupyter-widgets/base",
            "top": null,
            "grid_column": null,
            "overflow_y": null,
            "overflow_x": null,
            "grid_auto_flow": null,
            "grid_area": null,
            "grid_template_columns": null,
            "flex": null,
            "_model_name": "LayoutModel",
            "justify_items": null,
            "grid_row": null,
            "max_height": null,
            "align_content": null,
            "visibility": null,
            "align_self": null,
            "height": null,
            "min_height": null,
            "padding": null,
            "grid_auto_rows": null,
            "grid_gap": null,
            "max_width": null,
            "order": null,
            "_view_module_version": "1.2.0",
            "grid_template_areas": null,
            "object_position": null,
            "object_fit": null,
            "grid_auto_columns": null,
            "margin": null,
            "display": null,
            "left": null
          }
        },
        "12dfab024d6d4854b9a077604b55d62f": {
          "model_module": "@jupyter-widgets/controls",
          "model_name": "DescriptionStyleModel",
          "state": {
            "_view_name": "StyleView",
            "_model_name": "DescriptionStyleModel",
            "description_width": "",
            "_view_module": "@jupyter-widgets/base",
            "_model_module_version": "1.5.0",
            "_view_count": null,
            "_view_module_version": "1.2.0",
            "_model_module": "@jupyter-widgets/controls"
          }
        },
        "618d6fd63be74b3799e8fafe1ea6a4e4": {
          "model_module": "@jupyter-widgets/base",
          "model_name": "LayoutModel",
          "state": {
            "_view_name": "LayoutView",
            "grid_template_rows": null,
            "right": null,
            "justify_content": null,
            "_view_module": "@jupyter-widgets/base",
            "overflow": null,
            "_model_module_version": "1.2.0",
            "_view_count": null,
            "flex_flow": null,
            "width": null,
            "min_width": null,
            "border": null,
            "align_items": null,
            "bottom": null,
            "_model_module": "@jupyter-widgets/base",
            "top": null,
            "grid_column": null,
            "overflow_y": null,
            "overflow_x": null,
            "grid_auto_flow": null,
            "grid_area": null,
            "grid_template_columns": null,
            "flex": null,
            "_model_name": "LayoutModel",
            "justify_items": null,
            "grid_row": null,
            "max_height": null,
            "align_content": null,
            "visibility": null,
            "align_self": null,
            "height": null,
            "min_height": null,
            "padding": null,
            "grid_auto_rows": null,
            "grid_gap": null,
            "max_width": null,
            "order": null,
            "_view_module_version": "1.2.0",
            "grid_template_areas": null,
            "object_position": null,
            "object_fit": null,
            "grid_auto_columns": null,
            "margin": null,
            "display": null,
            "left": null
          }
        },
        "6cf11591d3424cc69c7f95e936a176a1": {
          "model_module": "@jupyter-widgets/controls",
          "model_name": "HBoxModel",
          "state": {
            "_view_name": "HBoxView",
            "_dom_classes": [],
            "_model_name": "HBoxModel",
            "_view_module": "@jupyter-widgets/controls",
            "_model_module_version": "1.5.0",
            "_view_count": null,
            "_view_module_version": "1.5.0",
            "box_style": "",
            "layout": "IPY_MODEL_d1fea61a7f1b47769720584b371ef30e",
            "_model_module": "@jupyter-widgets/controls",
            "children": [
              "IPY_MODEL_7f6fa25f4430442a8bdaff5d64aedd3f",
              "IPY_MODEL_47507e841e064c43b772a5e82a1571b8"
            ]
          }
        },
        "d1fea61a7f1b47769720584b371ef30e": {
          "model_module": "@jupyter-widgets/base",
          "model_name": "LayoutModel",
          "state": {
            "_view_name": "LayoutView",
            "grid_template_rows": null,
            "right": null,
            "justify_content": null,
            "_view_module": "@jupyter-widgets/base",
            "overflow": null,
            "_model_module_version": "1.2.0",
            "_view_count": null,
            "flex_flow": null,
            "width": null,
            "min_width": null,
            "border": null,
            "align_items": null,
            "bottom": null,
            "_model_module": "@jupyter-widgets/base",
            "top": null,
            "grid_column": null,
            "overflow_y": null,
            "overflow_x": null,
            "grid_auto_flow": null,
            "grid_area": null,
            "grid_template_columns": null,
            "flex": null,
            "_model_name": "LayoutModel",
            "justify_items": null,
            "grid_row": null,
            "max_height": null,
            "align_content": null,
            "visibility": null,
            "align_self": null,
            "height": null,
            "min_height": null,
            "padding": null,
            "grid_auto_rows": null,
            "grid_gap": null,
            "max_width": null,
            "order": null,
            "_view_module_version": "1.2.0",
            "grid_template_areas": null,
            "object_position": null,
            "object_fit": null,
            "grid_auto_columns": null,
            "margin": null,
            "display": null,
            "left": null
          }
        },
        "7f6fa25f4430442a8bdaff5d64aedd3f": {
          "model_module": "@jupyter-widgets/controls",
          "model_name": "FloatProgressModel",
          "state": {
            "_view_name": "ProgressView",
            "style": "IPY_MODEL_d3ccab34a79b4ab78b0addce409ebc53",
            "_dom_classes": [],
            "description": "Dl Size...: ",
            "_model_name": "FloatProgressModel",
            "bar_style": "success",
            "max": 1,
            "_view_module": "@jupyter-widgets/controls",
            "_model_module_version": "1.5.0",
            "value": 1,
            "_view_count": null,
            "_view_module_version": "1.5.0",
            "orientation": "horizontal",
            "min": 0,
            "description_tooltip": null,
            "_model_module": "@jupyter-widgets/controls",
            "layout": "IPY_MODEL_c372a604bcd84e648096781529a8ae62"
          }
        },
        "47507e841e064c43b772a5e82a1571b8": {
          "model_module": "@jupyter-widgets/controls",
          "model_name": "HTMLModel",
          "state": {
            "_view_name": "HTMLView",
            "style": "IPY_MODEL_b4f24b8e77c5405493acf9da8029d074",
            "_dom_classes": [],
            "description": "",
            "_model_name": "HTMLModel",
            "placeholder": "​",
            "_view_module": "@jupyter-widgets/controls",
            "_model_module_version": "1.5.0",
            "value": " 557/? [01:21&lt;00:00,  6.80 MiB/s]",
            "_view_count": null,
            "_view_module_version": "1.5.0",
            "description_tooltip": null,
            "_model_module": "@jupyter-widgets/controls",
            "layout": "IPY_MODEL_bddf50c79a20401c898aa751396e3540"
          }
        },
        "d3ccab34a79b4ab78b0addce409ebc53": {
          "model_module": "@jupyter-widgets/controls",
          "model_name": "ProgressStyleModel",
          "state": {
            "_view_name": "StyleView",
            "_model_name": "ProgressStyleModel",
            "description_width": "initial",
            "_view_module": "@jupyter-widgets/base",
            "_model_module_version": "1.5.0",
            "_view_count": null,
            "_view_module_version": "1.2.0",
            "bar_color": null,
            "_model_module": "@jupyter-widgets/controls"
          }
        },
        "c372a604bcd84e648096781529a8ae62": {
          "model_module": "@jupyter-widgets/base",
          "model_name": "LayoutModel",
          "state": {
            "_view_name": "LayoutView",
            "grid_template_rows": null,
            "right": null,
            "justify_content": null,
            "_view_module": "@jupyter-widgets/base",
            "overflow": null,
            "_model_module_version": "1.2.0",
            "_view_count": null,
            "flex_flow": null,
            "width": null,
            "min_width": null,
            "border": null,
            "align_items": null,
            "bottom": null,
            "_model_module": "@jupyter-widgets/base",
            "top": null,
            "grid_column": null,
            "overflow_y": null,
            "overflow_x": null,
            "grid_auto_flow": null,
            "grid_area": null,
            "grid_template_columns": null,
            "flex": null,
            "_model_name": "LayoutModel",
            "justify_items": null,
            "grid_row": null,
            "max_height": null,
            "align_content": null,
            "visibility": null,
            "align_self": null,
            "height": null,
            "min_height": null,
            "padding": null,
            "grid_auto_rows": null,
            "grid_gap": null,
            "max_width": null,
            "order": null,
            "_view_module_version": "1.2.0",
            "grid_template_areas": null,
            "object_position": null,
            "object_fit": null,
            "grid_auto_columns": null,
            "margin": null,
            "display": null,
            "left": null
          }
        },
        "b4f24b8e77c5405493acf9da8029d074": {
          "model_module": "@jupyter-widgets/controls",
          "model_name": "DescriptionStyleModel",
          "state": {
            "_view_name": "StyleView",
            "_model_name": "DescriptionStyleModel",
            "description_width": "",
            "_view_module": "@jupyter-widgets/base",
            "_model_module_version": "1.5.0",
            "_view_count": null,
            "_view_module_version": "1.2.0",
            "_model_module": "@jupyter-widgets/controls"
          }
        },
        "bddf50c79a20401c898aa751396e3540": {
          "model_module": "@jupyter-widgets/base",
          "model_name": "LayoutModel",
          "state": {
            "_view_name": "LayoutView",
            "grid_template_rows": null,
            "right": null,
            "justify_content": null,
            "_view_module": "@jupyter-widgets/base",
            "overflow": null,
            "_model_module_version": "1.2.0",
            "_view_count": null,
            "flex_flow": null,
            "width": null,
            "min_width": null,
            "border": null,
            "align_items": null,
            "bottom": null,
            "_model_module": "@jupyter-widgets/base",
            "top": null,
            "grid_column": null,
            "overflow_y": null,
            "overflow_x": null,
            "grid_auto_flow": null,
            "grid_area": null,
            "grid_template_columns": null,
            "flex": null,
            "_model_name": "LayoutModel",
            "justify_items": null,
            "grid_row": null,
            "max_height": null,
            "align_content": null,
            "visibility": null,
            "align_self": null,
            "height": null,
            "min_height": null,
            "padding": null,
            "grid_auto_rows": null,
            "grid_gap": null,
            "max_width": null,
            "order": null,
            "_view_module_version": "1.2.0",
            "grid_template_areas": null,
            "object_position": null,
            "object_fit": null,
            "grid_auto_columns": null,
            "margin": null,
            "display": null,
            "left": null
          }
        },
        "9a161d946b3b488090a87bb3547766be": {
          "model_module": "@jupyter-widgets/controls",
          "model_name": "HBoxModel",
          "state": {
            "_view_name": "HBoxView",
            "_dom_classes": [],
            "_model_name": "HBoxModel",
            "_view_module": "@jupyter-widgets/controls",
            "_model_module_version": "1.5.0",
            "_view_count": null,
            "_view_module_version": "1.5.0",
            "box_style": "",
            "layout": "IPY_MODEL_eebea41714584553ac9c2fed2a0c21e5",
            "_model_module": "@jupyter-widgets/controls",
            "children": [
              "IPY_MODEL_15c63ae26afb4cb5acc8856d946de382",
              "IPY_MODEL_5095fccd130a4fb6b22c247902472c50"
            ]
          }
        },
        "eebea41714584553ac9c2fed2a0c21e5": {
          "model_module": "@jupyter-widgets/base",
          "model_name": "LayoutModel",
          "state": {
            "_view_name": "LayoutView",
            "grid_template_rows": null,
            "right": null,
            "justify_content": null,
            "_view_module": "@jupyter-widgets/base",
            "overflow": null,
            "_model_module_version": "1.2.0",
            "_view_count": null,
            "flex_flow": null,
            "width": null,
            "min_width": null,
            "border": null,
            "align_items": null,
            "bottom": null,
            "_model_module": "@jupyter-widgets/base",
            "top": null,
            "grid_column": null,
            "overflow_y": null,
            "overflow_x": null,
            "grid_auto_flow": null,
            "grid_area": null,
            "grid_template_columns": null,
            "flex": null,
            "_model_name": "LayoutModel",
            "justify_items": null,
            "grid_row": null,
            "max_height": null,
            "align_content": null,
            "visibility": null,
            "align_self": null,
            "height": null,
            "min_height": null,
            "padding": null,
            "grid_auto_rows": null,
            "grid_gap": null,
            "max_width": null,
            "order": null,
            "_view_module_version": "1.2.0",
            "grid_template_areas": null,
            "object_position": null,
            "object_fit": null,
            "grid_auto_columns": null,
            "margin": null,
            "display": null,
            "left": null
          }
        },
        "15c63ae26afb4cb5acc8856d946de382": {
          "model_module": "@jupyter-widgets/controls",
          "model_name": "FloatProgressModel",
          "state": {
            "_view_name": "ProgressView",
            "style": "IPY_MODEL_d396fb604e6b4d30951b057bce75445f",
            "_dom_classes": [],
            "description": "Extraction completed...: 100%",
            "_model_name": "FloatProgressModel",
            "bar_style": "success",
            "max": 1,
            "_view_module": "@jupyter-widgets/controls",
            "_model_module_version": "1.5.0",
            "value": 1,
            "_view_count": null,
            "_view_module_version": "1.5.0",
            "orientation": "horizontal",
            "min": 0,
            "description_tooltip": null,
            "_model_module": "@jupyter-widgets/controls",
            "layout": "IPY_MODEL_0181bb06493f4cea9b7392162c839641"
          }
        },
        "5095fccd130a4fb6b22c247902472c50": {
          "model_module": "@jupyter-widgets/controls",
          "model_name": "HTMLModel",
          "state": {
            "_view_name": "HTMLView",
            "style": "IPY_MODEL_97c5cb8fad7d4a7d9e6e009acba7558e",
            "_dom_classes": [],
            "description": "",
            "_model_name": "HTMLModel",
            "placeholder": "​",
            "_view_module": "@jupyter-widgets/controls",
            "_model_module_version": "1.5.0",
            "value": " 2/2 [01:21&lt;00:00, 40.97s/ file]",
            "_view_count": null,
            "_view_module_version": "1.5.0",
            "description_tooltip": null,
            "_model_module": "@jupyter-widgets/controls",
            "layout": "IPY_MODEL_dbbd5d9d77014e9db2cf1e18579af53c"
          }
        },
        "d396fb604e6b4d30951b057bce75445f": {
          "model_module": "@jupyter-widgets/controls",
          "model_name": "ProgressStyleModel",
          "state": {
            "_view_name": "StyleView",
            "_model_name": "ProgressStyleModel",
            "description_width": "initial",
            "_view_module": "@jupyter-widgets/base",
            "_model_module_version": "1.5.0",
            "_view_count": null,
            "_view_module_version": "1.2.0",
            "bar_color": null,
            "_model_module": "@jupyter-widgets/controls"
          }
        },
        "0181bb06493f4cea9b7392162c839641": {
          "model_module": "@jupyter-widgets/base",
          "model_name": "LayoutModel",
          "state": {
            "_view_name": "LayoutView",
            "grid_template_rows": null,
            "right": null,
            "justify_content": null,
            "_view_module": "@jupyter-widgets/base",
            "overflow": null,
            "_model_module_version": "1.2.0",
            "_view_count": null,
            "flex_flow": null,
            "width": null,
            "min_width": null,
            "border": null,
            "align_items": null,
            "bottom": null,
            "_model_module": "@jupyter-widgets/base",
            "top": null,
            "grid_column": null,
            "overflow_y": null,
            "overflow_x": null,
            "grid_auto_flow": null,
            "grid_area": null,
            "grid_template_columns": null,
            "flex": null,
            "_model_name": "LayoutModel",
            "justify_items": null,
            "grid_row": null,
            "max_height": null,
            "align_content": null,
            "visibility": null,
            "align_self": null,
            "height": null,
            "min_height": null,
            "padding": null,
            "grid_auto_rows": null,
            "grid_gap": null,
            "max_width": null,
            "order": null,
            "_view_module_version": "1.2.0",
            "grid_template_areas": null,
            "object_position": null,
            "object_fit": null,
            "grid_auto_columns": null,
            "margin": null,
            "display": null,
            "left": null
          }
        },
        "97c5cb8fad7d4a7d9e6e009acba7558e": {
          "model_module": "@jupyter-widgets/controls",
          "model_name": "DescriptionStyleModel",
          "state": {
            "_view_name": "StyleView",
            "_model_name": "DescriptionStyleModel",
            "description_width": "",
            "_view_module": "@jupyter-widgets/base",
            "_model_module_version": "1.5.0",
            "_view_count": null,
            "_view_module_version": "1.2.0",
            "_model_module": "@jupyter-widgets/controls"
          }
        },
        "dbbd5d9d77014e9db2cf1e18579af53c": {
          "model_module": "@jupyter-widgets/base",
          "model_name": "LayoutModel",
          "state": {
            "_view_name": "LayoutView",
            "grid_template_rows": null,
            "right": null,
            "justify_content": null,
            "_view_module": "@jupyter-widgets/base",
            "overflow": null,
            "_model_module_version": "1.2.0",
            "_view_count": null,
            "flex_flow": null,
            "width": null,
            "min_width": null,
            "border": null,
            "align_items": null,
            "bottom": null,
            "_model_module": "@jupyter-widgets/base",
            "top": null,
            "grid_column": null,
            "overflow_y": null,
            "overflow_x": null,
            "grid_auto_flow": null,
            "grid_area": null,
            "grid_template_columns": null,
            "flex": null,
            "_model_name": "LayoutModel",
            "justify_items": null,
            "grid_row": null,
            "max_height": null,
            "align_content": null,
            "visibility": null,
            "align_self": null,
            "height": null,
            "min_height": null,
            "padding": null,
            "grid_auto_rows": null,
            "grid_gap": null,
            "max_width": null,
            "order": null,
            "_view_module_version": "1.2.0",
            "grid_template_areas": null,
            "object_position": null,
            "object_fit": null,
            "grid_auto_columns": null,
            "margin": null,
            "display": null,
            "left": null
          }
        },
        "94ecbcbfa5294e0f958f9a4cf3b3cb89": {
          "model_module": "@jupyter-widgets/controls",
          "model_name": "HBoxModel",
          "state": {
            "_view_name": "HBoxView",
            "_dom_classes": [],
            "_model_name": "HBoxModel",
            "_view_module": "@jupyter-widgets/controls",
            "_model_module_version": "1.5.0",
            "_view_count": null,
            "_view_module_version": "1.5.0",
            "box_style": "",
            "layout": "IPY_MODEL_fe5e46720d1648b9849cc934c1b08b8f",
            "_model_module": "@jupyter-widgets/controls",
            "children": [
              "IPY_MODEL_075037cf4e1340698e718b26783ae696",
              "IPY_MODEL_1e875a6439df4d4fa5b56913334b0680"
            ]
          }
        },
        "fe5e46720d1648b9849cc934c1b08b8f": {
          "model_module": "@jupyter-widgets/base",
          "model_name": "LayoutModel",
          "state": {
            "_view_name": "LayoutView",
            "grid_template_rows": null,
            "right": null,
            "justify_content": null,
            "_view_module": "@jupyter-widgets/base",
            "overflow": null,
            "_model_module_version": "1.2.0",
            "_view_count": null,
            "flex_flow": null,
            "width": null,
            "min_width": null,
            "border": null,
            "align_items": null,
            "bottom": null,
            "_model_module": "@jupyter-widgets/base",
            "top": null,
            "grid_column": null,
            "overflow_y": null,
            "overflow_x": null,
            "grid_auto_flow": null,
            "grid_area": null,
            "grid_template_columns": null,
            "flex": null,
            "_model_name": "LayoutModel",
            "justify_items": null,
            "grid_row": null,
            "max_height": null,
            "align_content": null,
            "visibility": null,
            "align_self": null,
            "height": null,
            "min_height": null,
            "padding": null,
            "grid_auto_rows": null,
            "grid_gap": null,
            "max_width": null,
            "order": null,
            "_view_module_version": "1.2.0",
            "grid_template_areas": null,
            "object_position": null,
            "object_fit": null,
            "grid_auto_columns": null,
            "margin": null,
            "display": null,
            "left": null
          }
        },
        "075037cf4e1340698e718b26783ae696": {
          "model_module": "@jupyter-widgets/controls",
          "model_name": "FloatProgressModel",
          "state": {
            "_view_name": "ProgressView",
            "style": "IPY_MODEL_0c813a4524324d91bcd8f36d1a29121a",
            "_dom_classes": [],
            "description": "100%",
            "_model_name": "FloatProgressModel",
            "bar_style": "",
            "max": 3,
            "_view_module": "@jupyter-widgets/controls",
            "_model_module_version": "1.5.0",
            "value": 3,
            "_view_count": null,
            "_view_module_version": "1.5.0",
            "orientation": "horizontal",
            "min": 0,
            "description_tooltip": null,
            "_model_module": "@jupyter-widgets/controls",
            "layout": "IPY_MODEL_a4d18bea10bf4903b177e2940fe6e88f"
          }
        },
        "1e875a6439df4d4fa5b56913334b0680": {
          "model_module": "@jupyter-widgets/controls",
          "model_name": "HTMLModel",
          "state": {
            "_view_name": "HTMLView",
            "style": "IPY_MODEL_13c980b2f2d0406b9faf0b55d1045889",
            "_dom_classes": [],
            "description": "",
            "_model_name": "HTMLModel",
            "placeholder": "​",
            "_view_module": "@jupyter-widgets/controls",
            "_model_module_version": "1.5.0",
            "value": " 3/3 [03:48&lt;00:00, 107.73s/ splits]",
            "_view_count": null,
            "_view_module_version": "1.5.0",
            "description_tooltip": null,
            "_model_module": "@jupyter-widgets/controls",
            "layout": "IPY_MODEL_4ba2a0832f9a43c3b7d7539c8cc73226"
          }
        },
        "0c813a4524324d91bcd8f36d1a29121a": {
          "model_module": "@jupyter-widgets/controls",
          "model_name": "ProgressStyleModel",
          "state": {
            "_view_name": "StyleView",
            "_model_name": "ProgressStyleModel",
            "description_width": "initial",
            "_view_module": "@jupyter-widgets/base",
            "_model_module_version": "1.5.0",
            "_view_count": null,
            "_view_module_version": "1.2.0",
            "bar_color": null,
            "_model_module": "@jupyter-widgets/controls"
          }
        },
        "a4d18bea10bf4903b177e2940fe6e88f": {
          "model_module": "@jupyter-widgets/base",
          "model_name": "LayoutModel",
          "state": {
            "_view_name": "LayoutView",
            "grid_template_rows": null,
            "right": null,
            "justify_content": null,
            "_view_module": "@jupyter-widgets/base",
            "overflow": null,
            "_model_module_version": "1.2.0",
            "_view_count": null,
            "flex_flow": null,
            "width": null,
            "min_width": null,
            "border": null,
            "align_items": null,
            "bottom": null,
            "_model_module": "@jupyter-widgets/base",
            "top": null,
            "grid_column": null,
            "overflow_y": null,
            "overflow_x": null,
            "grid_auto_flow": null,
            "grid_area": null,
            "grid_template_columns": null,
            "flex": null,
            "_model_name": "LayoutModel",
            "justify_items": null,
            "grid_row": null,
            "max_height": null,
            "align_content": null,
            "visibility": null,
            "align_self": null,
            "height": null,
            "min_height": null,
            "padding": null,
            "grid_auto_rows": null,
            "grid_gap": null,
            "max_width": null,
            "order": null,
            "_view_module_version": "1.2.0",
            "grid_template_areas": null,
            "object_position": null,
            "object_fit": null,
            "grid_auto_columns": null,
            "margin": null,
            "display": null,
            "left": null
          }
        },
        "13c980b2f2d0406b9faf0b55d1045889": {
          "model_module": "@jupyter-widgets/controls",
          "model_name": "DescriptionStyleModel",
          "state": {
            "_view_name": "StyleView",
            "_model_name": "DescriptionStyleModel",
            "description_width": "",
            "_view_module": "@jupyter-widgets/base",
            "_model_module_version": "1.5.0",
            "_view_count": null,
            "_view_module_version": "1.2.0",
            "_model_module": "@jupyter-widgets/controls"
          }
        },
        "4ba2a0832f9a43c3b7d7539c8cc73226": {
          "model_module": "@jupyter-widgets/base",
          "model_name": "LayoutModel",
          "state": {
            "_view_name": "LayoutView",
            "grid_template_rows": null,
            "right": null,
            "justify_content": null,
            "_view_module": "@jupyter-widgets/base",
            "overflow": null,
            "_model_module_version": "1.2.0",
            "_view_count": null,
            "flex_flow": null,
            "width": null,
            "min_width": null,
            "border": null,
            "align_items": null,
            "bottom": null,
            "_model_module": "@jupyter-widgets/base",
            "top": null,
            "grid_column": null,
            "overflow_y": null,
            "overflow_x": null,
            "grid_auto_flow": null,
            "grid_area": null,
            "grid_template_columns": null,
            "flex": null,
            "_model_name": "LayoutModel",
            "justify_items": null,
            "grid_row": null,
            "max_height": null,
            "align_content": null,
            "visibility": null,
            "align_self": null,
            "height": null,
            "min_height": null,
            "padding": null,
            "grid_auto_rows": null,
            "grid_gap": null,
            "max_width": null,
            "order": null,
            "_view_module_version": "1.2.0",
            "grid_template_areas": null,
            "object_position": null,
            "object_fit": null,
            "grid_auto_columns": null,
            "margin": null,
            "display": null,
            "left": null
          }
        },
        "249531bc9fa549b49d03c31cbe18f8af": {
          "model_module": "@jupyter-widgets/controls",
          "model_name": "HBoxModel",
          "state": {
            "_view_name": "HBoxView",
            "_dom_classes": [],
            "_model_name": "HBoxModel",
            "_view_module": "@jupyter-widgets/controls",
            "_model_module_version": "1.5.0",
            "_view_count": null,
            "_view_module_version": "1.5.0",
            "box_style": "",
            "layout": "IPY_MODEL_2de6b92a2ff843d495b538896f0ffea4",
            "_model_module": "@jupyter-widgets/controls",
            "children": [
              "IPY_MODEL_4920b0f927834474acc18a7d7567f4f7",
              "IPY_MODEL_f3cd161b08a44bc8904d1754ef9d4285"
            ]
          }
        },
        "2de6b92a2ff843d495b538896f0ffea4": {
          "model_module": "@jupyter-widgets/base",
          "model_name": "LayoutModel",
          "state": {
            "_view_name": "LayoutView",
            "grid_template_rows": null,
            "right": null,
            "justify_content": null,
            "_view_module": "@jupyter-widgets/base",
            "overflow": null,
            "_model_module_version": "1.2.0",
            "_view_count": null,
            "flex_flow": null,
            "width": null,
            "min_width": null,
            "border": null,
            "align_items": null,
            "bottom": null,
            "_model_module": "@jupyter-widgets/base",
            "top": null,
            "grid_column": null,
            "overflow_y": null,
            "overflow_x": null,
            "grid_auto_flow": null,
            "grid_area": null,
            "grid_template_columns": null,
            "flex": null,
            "_model_name": "LayoutModel",
            "justify_items": null,
            "grid_row": null,
            "max_height": null,
            "align_content": null,
            "visibility": null,
            "align_self": null,
            "height": null,
            "min_height": null,
            "padding": null,
            "grid_auto_rows": null,
            "grid_gap": null,
            "max_width": null,
            "order": null,
            "_view_module_version": "1.2.0",
            "grid_template_areas": null,
            "object_position": null,
            "object_fit": null,
            "grid_auto_columns": null,
            "margin": null,
            "display": null,
            "left": null
          }
        },
        "4920b0f927834474acc18a7d7567f4f7": {
          "model_module": "@jupyter-widgets/controls",
          "model_name": "FloatProgressModel",
          "state": {
            "_view_name": "ProgressView",
            "style": "IPY_MODEL_d6a8dfc8cbc34fe49f0ec770d3d9e0a0",
            "_dom_classes": [],
            "description": "100%",
            "_model_name": "FloatProgressModel",
            "bar_style": "",
            "max": 287113,
            "_view_module": "@jupyter-widgets/controls",
            "_model_module_version": "1.5.0",
            "value": 287113,
            "_view_count": null,
            "_view_module_version": "1.5.0",
            "orientation": "horizontal",
            "min": 0,
            "description_tooltip": null,
            "_model_module": "@jupyter-widgets/controls",
            "layout": "IPY_MODEL_999c4e42cfc541a18343ab55b750499d"
          }
        },
        "f3cd161b08a44bc8904d1754ef9d4285": {
          "model_module": "@jupyter-widgets/controls",
          "model_name": "HTMLModel",
          "state": {
            "_view_name": "HTMLView",
            "style": "IPY_MODEL_ca94cc0622cd4149988c7b5d94cc3097",
            "_dom_classes": [],
            "description": "",
            "_model_name": "HTMLModel",
            "placeholder": "​",
            "_view_module": "@jupyter-widgets/controls",
            "_model_module_version": "1.5.0",
            "value": " 287113/287113 [03:25&lt;00:00, 1080.85 examples/s]",
            "_view_count": null,
            "_view_module_version": "1.5.0",
            "description_tooltip": null,
            "_model_module": "@jupyter-widgets/controls",
            "layout": "IPY_MODEL_c8ccfee2404b475ba1b619bbffd39aee"
          }
        },
        "d6a8dfc8cbc34fe49f0ec770d3d9e0a0": {
          "model_module": "@jupyter-widgets/controls",
          "model_name": "ProgressStyleModel",
          "state": {
            "_view_name": "StyleView",
            "_model_name": "ProgressStyleModel",
            "description_width": "initial",
            "_view_module": "@jupyter-widgets/base",
            "_model_module_version": "1.5.0",
            "_view_count": null,
            "_view_module_version": "1.2.0",
            "bar_color": null,
            "_model_module": "@jupyter-widgets/controls"
          }
        },
        "999c4e42cfc541a18343ab55b750499d": {
          "model_module": "@jupyter-widgets/base",
          "model_name": "LayoutModel",
          "state": {
            "_view_name": "LayoutView",
            "grid_template_rows": null,
            "right": null,
            "justify_content": null,
            "_view_module": "@jupyter-widgets/base",
            "overflow": null,
            "_model_module_version": "1.2.0",
            "_view_count": null,
            "flex_flow": null,
            "width": null,
            "min_width": null,
            "border": null,
            "align_items": null,
            "bottom": null,
            "_model_module": "@jupyter-widgets/base",
            "top": null,
            "grid_column": null,
            "overflow_y": null,
            "overflow_x": null,
            "grid_auto_flow": null,
            "grid_area": null,
            "grid_template_columns": null,
            "flex": null,
            "_model_name": "LayoutModel",
            "justify_items": null,
            "grid_row": null,
            "max_height": null,
            "align_content": null,
            "visibility": null,
            "align_self": null,
            "height": null,
            "min_height": null,
            "padding": null,
            "grid_auto_rows": null,
            "grid_gap": null,
            "max_width": null,
            "order": null,
            "_view_module_version": "1.2.0",
            "grid_template_areas": null,
            "object_position": null,
            "object_fit": null,
            "grid_auto_columns": null,
            "margin": null,
            "display": null,
            "left": null
          }
        },
        "ca94cc0622cd4149988c7b5d94cc3097": {
          "model_module": "@jupyter-widgets/controls",
          "model_name": "DescriptionStyleModel",
          "state": {
            "_view_name": "StyleView",
            "_model_name": "DescriptionStyleModel",
            "description_width": "",
            "_view_module": "@jupyter-widgets/base",
            "_model_module_version": "1.5.0",
            "_view_count": null,
            "_view_module_version": "1.2.0",
            "_model_module": "@jupyter-widgets/controls"
          }
        },
        "c8ccfee2404b475ba1b619bbffd39aee": {
          "model_module": "@jupyter-widgets/base",
          "model_name": "LayoutModel",
          "state": {
            "_view_name": "LayoutView",
            "grid_template_rows": null,
            "right": null,
            "justify_content": null,
            "_view_module": "@jupyter-widgets/base",
            "overflow": null,
            "_model_module_version": "1.2.0",
            "_view_count": null,
            "flex_flow": null,
            "width": null,
            "min_width": null,
            "border": null,
            "align_items": null,
            "bottom": null,
            "_model_module": "@jupyter-widgets/base",
            "top": null,
            "grid_column": null,
            "overflow_y": null,
            "overflow_x": null,
            "grid_auto_flow": null,
            "grid_area": null,
            "grid_template_columns": null,
            "flex": null,
            "_model_name": "LayoutModel",
            "justify_items": null,
            "grid_row": null,
            "max_height": null,
            "align_content": null,
            "visibility": null,
            "align_self": null,
            "height": null,
            "min_height": null,
            "padding": null,
            "grid_auto_rows": null,
            "grid_gap": null,
            "max_width": null,
            "order": null,
            "_view_module_version": "1.2.0",
            "grid_template_areas": null,
            "object_position": null,
            "object_fit": null,
            "grid_auto_columns": null,
            "margin": null,
            "display": null,
            "left": null
          }
        },
        "c29e442fe5cd451b835b9f463d671441": {
          "model_module": "@jupyter-widgets/controls",
          "model_name": "HBoxModel",
          "state": {
            "_view_name": "HBoxView",
            "_dom_classes": [],
            "_model_name": "HBoxModel",
            "_view_module": "@jupyter-widgets/controls",
            "_model_module_version": "1.5.0",
            "_view_count": null,
            "_view_module_version": "1.5.0",
            "box_style": "",
            "layout": "IPY_MODEL_a44a8319848940429fc5844205de866c",
            "_model_module": "@jupyter-widgets/controls",
            "children": [
              "IPY_MODEL_cc465c3494544ac69e4e7f5932ab1fa1",
              "IPY_MODEL_a5d42f1f4d1540deab593acace8ad6cc"
            ]
          }
        },
        "a44a8319848940429fc5844205de866c": {
          "model_module": "@jupyter-widgets/base",
          "model_name": "LayoutModel",
          "state": {
            "_view_name": "LayoutView",
            "grid_template_rows": null,
            "right": null,
            "justify_content": null,
            "_view_module": "@jupyter-widgets/base",
            "overflow": null,
            "_model_module_version": "1.2.0",
            "_view_count": null,
            "flex_flow": null,
            "width": null,
            "min_width": null,
            "border": null,
            "align_items": null,
            "bottom": null,
            "_model_module": "@jupyter-widgets/base",
            "top": null,
            "grid_column": null,
            "overflow_y": null,
            "overflow_x": null,
            "grid_auto_flow": null,
            "grid_area": null,
            "grid_template_columns": null,
            "flex": null,
            "_model_name": "LayoutModel",
            "justify_items": null,
            "grid_row": null,
            "max_height": null,
            "align_content": null,
            "visibility": null,
            "align_self": null,
            "height": null,
            "min_height": null,
            "padding": null,
            "grid_auto_rows": null,
            "grid_gap": null,
            "max_width": null,
            "order": null,
            "_view_module_version": "1.2.0",
            "grid_template_areas": null,
            "object_position": null,
            "object_fit": null,
            "grid_auto_columns": null,
            "margin": null,
            "display": null,
            "left": null
          }
        },
        "cc465c3494544ac69e4e7f5932ab1fa1": {
          "model_module": "@jupyter-widgets/controls",
          "model_name": "FloatProgressModel",
          "state": {
            "_view_name": "ProgressView",
            "style": "IPY_MODEL_261c9b9347ab4bb8930f59a9fb441602",
            "_dom_classes": [],
            "description": " 98%",
            "_model_name": "FloatProgressModel",
            "bar_style": "danger",
            "max": 287113,
            "_view_module": "@jupyter-widgets/controls",
            "_model_module_version": "1.5.0",
            "value": 282054,
            "_view_count": null,
            "_view_module_version": "1.5.0",
            "orientation": "horizontal",
            "min": 0,
            "description_tooltip": null,
            "_model_module": "@jupyter-widgets/controls",
            "layout": "IPY_MODEL_ad7801b698b14fe1b5586594fb32447f"
          }
        },
        "a5d42f1f4d1540deab593acace8ad6cc": {
          "model_module": "@jupyter-widgets/controls",
          "model_name": "HTMLModel",
          "state": {
            "_view_name": "HTMLView",
            "style": "IPY_MODEL_7bd70e611b01432cb4357650a0638c6f",
            "_dom_classes": [],
            "description": "",
            "_model_name": "HTMLModel",
            "placeholder": "​",
            "_view_module": "@jupyter-widgets/controls",
            "_model_module_version": "1.5.0",
            "value": " 282054/287113 [00:28&lt;00:00, 55126.62 examples/s]",
            "_view_count": null,
            "_view_module_version": "1.5.0",
            "description_tooltip": null,
            "_model_module": "@jupyter-widgets/controls",
            "layout": "IPY_MODEL_772ad500320e4243ae6346d801b84f71"
          }
        },
        "261c9b9347ab4bb8930f59a9fb441602": {
          "model_module": "@jupyter-widgets/controls",
          "model_name": "ProgressStyleModel",
          "state": {
            "_view_name": "StyleView",
            "_model_name": "ProgressStyleModel",
            "description_width": "initial",
            "_view_module": "@jupyter-widgets/base",
            "_model_module_version": "1.5.0",
            "_view_count": null,
            "_view_module_version": "1.2.0",
            "bar_color": null,
            "_model_module": "@jupyter-widgets/controls"
          }
        },
        "ad7801b698b14fe1b5586594fb32447f": {
          "model_module": "@jupyter-widgets/base",
          "model_name": "LayoutModel",
          "state": {
            "_view_name": "LayoutView",
            "grid_template_rows": null,
            "right": null,
            "justify_content": null,
            "_view_module": "@jupyter-widgets/base",
            "overflow": null,
            "_model_module_version": "1.2.0",
            "_view_count": null,
            "flex_flow": null,
            "width": null,
            "min_width": null,
            "border": null,
            "align_items": null,
            "bottom": null,
            "_model_module": "@jupyter-widgets/base",
            "top": null,
            "grid_column": null,
            "overflow_y": null,
            "overflow_x": null,
            "grid_auto_flow": null,
            "grid_area": null,
            "grid_template_columns": null,
            "flex": null,
            "_model_name": "LayoutModel",
            "justify_items": null,
            "grid_row": null,
            "max_height": null,
            "align_content": null,
            "visibility": null,
            "align_self": null,
            "height": null,
            "min_height": null,
            "padding": null,
            "grid_auto_rows": null,
            "grid_gap": null,
            "max_width": null,
            "order": null,
            "_view_module_version": "1.2.0",
            "grid_template_areas": null,
            "object_position": null,
            "object_fit": null,
            "grid_auto_columns": null,
            "margin": null,
            "display": null,
            "left": null
          }
        },
        "7bd70e611b01432cb4357650a0638c6f": {
          "model_module": "@jupyter-widgets/controls",
          "model_name": "DescriptionStyleModel",
          "state": {
            "_view_name": "StyleView",
            "_model_name": "DescriptionStyleModel",
            "description_width": "",
            "_view_module": "@jupyter-widgets/base",
            "_model_module_version": "1.5.0",
            "_view_count": null,
            "_view_module_version": "1.2.0",
            "_model_module": "@jupyter-widgets/controls"
          }
        },
        "772ad500320e4243ae6346d801b84f71": {
          "model_module": "@jupyter-widgets/base",
          "model_name": "LayoutModel",
          "state": {
            "_view_name": "LayoutView",
            "grid_template_rows": null,
            "right": null,
            "justify_content": null,
            "_view_module": "@jupyter-widgets/base",
            "overflow": null,
            "_model_module_version": "1.2.0",
            "_view_count": null,
            "flex_flow": null,
            "width": null,
            "min_width": null,
            "border": null,
            "align_items": null,
            "bottom": null,
            "_model_module": "@jupyter-widgets/base",
            "top": null,
            "grid_column": null,
            "overflow_y": null,
            "overflow_x": null,
            "grid_auto_flow": null,
            "grid_area": null,
            "grid_template_columns": null,
            "flex": null,
            "_model_name": "LayoutModel",
            "justify_items": null,
            "grid_row": null,
            "max_height": null,
            "align_content": null,
            "visibility": null,
            "align_self": null,
            "height": null,
            "min_height": null,
            "padding": null,
            "grid_auto_rows": null,
            "grid_gap": null,
            "max_width": null,
            "order": null,
            "_view_module_version": "1.2.0",
            "grid_template_areas": null,
            "object_position": null,
            "object_fit": null,
            "grid_auto_columns": null,
            "margin": null,
            "display": null,
            "left": null
          }
        },
        "135281e6d0cb4edf83f3ca46a7fbe12c": {
          "model_module": "@jupyter-widgets/controls",
          "model_name": "HBoxModel",
          "state": {
            "_view_name": "HBoxView",
            "_dom_classes": [],
            "_model_name": "HBoxModel",
            "_view_module": "@jupyter-widgets/controls",
            "_model_module_version": "1.5.0",
            "_view_count": null,
            "_view_module_version": "1.5.0",
            "box_style": "",
            "layout": "IPY_MODEL_b9d431a1300f4324b592e748a7b36978",
            "_model_module": "@jupyter-widgets/controls",
            "children": [
              "IPY_MODEL_9a83d2ff028641a48439b67c65bea649",
              "IPY_MODEL_0a4151c03aa746e6be9233df6a8390f2"
            ]
          }
        },
        "b9d431a1300f4324b592e748a7b36978": {
          "model_module": "@jupyter-widgets/base",
          "model_name": "LayoutModel",
          "state": {
            "_view_name": "LayoutView",
            "grid_template_rows": null,
            "right": null,
            "justify_content": null,
            "_view_module": "@jupyter-widgets/base",
            "overflow": null,
            "_model_module_version": "1.2.0",
            "_view_count": null,
            "flex_flow": null,
            "width": null,
            "min_width": null,
            "border": null,
            "align_items": null,
            "bottom": null,
            "_model_module": "@jupyter-widgets/base",
            "top": null,
            "grid_column": null,
            "overflow_y": null,
            "overflow_x": null,
            "grid_auto_flow": null,
            "grid_area": null,
            "grid_template_columns": null,
            "flex": null,
            "_model_name": "LayoutModel",
            "justify_items": null,
            "grid_row": null,
            "max_height": null,
            "align_content": null,
            "visibility": null,
            "align_self": null,
            "height": null,
            "min_height": null,
            "padding": null,
            "grid_auto_rows": null,
            "grid_gap": null,
            "max_width": null,
            "order": null,
            "_view_module_version": "1.2.0",
            "grid_template_areas": null,
            "object_position": null,
            "object_fit": null,
            "grid_auto_columns": null,
            "margin": null,
            "display": null,
            "left": null
          }
        },
        "9a83d2ff028641a48439b67c65bea649": {
          "model_module": "@jupyter-widgets/controls",
          "model_name": "FloatProgressModel",
          "state": {
            "_view_name": "ProgressView",
            "style": "IPY_MODEL_cbf388b28cb9404a9b4d9bd94f3610e0",
            "_dom_classes": [],
            "description": "100%",
            "_model_name": "FloatProgressModel",
            "bar_style": "",
            "max": 13368,
            "_view_module": "@jupyter-widgets/controls",
            "_model_module_version": "1.5.0",
            "value": 13368,
            "_view_count": null,
            "_view_module_version": "1.5.0",
            "orientation": "horizontal",
            "min": 0,
            "description_tooltip": null,
            "_model_module": "@jupyter-widgets/controls",
            "layout": "IPY_MODEL_f38b684b2df449f59384612e2f24ec08"
          }
        },
        "0a4151c03aa746e6be9233df6a8390f2": {
          "model_module": "@jupyter-widgets/controls",
          "model_name": "HTMLModel",
          "state": {
            "_view_name": "HTMLView",
            "style": "IPY_MODEL_4a7286dda3724ccfa116a3fd1c6f9763",
            "_dom_classes": [],
            "description": "",
            "_model_name": "HTMLModel",
            "placeholder": "​",
            "_view_module": "@jupyter-widgets/controls",
            "_model_module_version": "1.5.0",
            "value": " 13368/13368 [00:09&lt;00:00, 1443.39 examples/s]",
            "_view_count": null,
            "_view_module_version": "1.5.0",
            "description_tooltip": null,
            "_model_module": "@jupyter-widgets/controls",
            "layout": "IPY_MODEL_d799fc07e5f449e99fd40c7f7e501028"
          }
        },
        "cbf388b28cb9404a9b4d9bd94f3610e0": {
          "model_module": "@jupyter-widgets/controls",
          "model_name": "ProgressStyleModel",
          "state": {
            "_view_name": "StyleView",
            "_model_name": "ProgressStyleModel",
            "description_width": "initial",
            "_view_module": "@jupyter-widgets/base",
            "_model_module_version": "1.5.0",
            "_view_count": null,
            "_view_module_version": "1.2.0",
            "bar_color": null,
            "_model_module": "@jupyter-widgets/controls"
          }
        },
        "f38b684b2df449f59384612e2f24ec08": {
          "model_module": "@jupyter-widgets/base",
          "model_name": "LayoutModel",
          "state": {
            "_view_name": "LayoutView",
            "grid_template_rows": null,
            "right": null,
            "justify_content": null,
            "_view_module": "@jupyter-widgets/base",
            "overflow": null,
            "_model_module_version": "1.2.0",
            "_view_count": null,
            "flex_flow": null,
            "width": null,
            "min_width": null,
            "border": null,
            "align_items": null,
            "bottom": null,
            "_model_module": "@jupyter-widgets/base",
            "top": null,
            "grid_column": null,
            "overflow_y": null,
            "overflow_x": null,
            "grid_auto_flow": null,
            "grid_area": null,
            "grid_template_columns": null,
            "flex": null,
            "_model_name": "LayoutModel",
            "justify_items": null,
            "grid_row": null,
            "max_height": null,
            "align_content": null,
            "visibility": null,
            "align_self": null,
            "height": null,
            "min_height": null,
            "padding": null,
            "grid_auto_rows": null,
            "grid_gap": null,
            "max_width": null,
            "order": null,
            "_view_module_version": "1.2.0",
            "grid_template_areas": null,
            "object_position": null,
            "object_fit": null,
            "grid_auto_columns": null,
            "margin": null,
            "display": null,
            "left": null
          }
        },
        "4a7286dda3724ccfa116a3fd1c6f9763": {
          "model_module": "@jupyter-widgets/controls",
          "model_name": "DescriptionStyleModel",
          "state": {
            "_view_name": "StyleView",
            "_model_name": "DescriptionStyleModel",
            "description_width": "",
            "_view_module": "@jupyter-widgets/base",
            "_model_module_version": "1.5.0",
            "_view_count": null,
            "_view_module_version": "1.2.0",
            "_model_module": "@jupyter-widgets/controls"
          }
        },
        "d799fc07e5f449e99fd40c7f7e501028": {
          "model_module": "@jupyter-widgets/base",
          "model_name": "LayoutModel",
          "state": {
            "_view_name": "LayoutView",
            "grid_template_rows": null,
            "right": null,
            "justify_content": null,
            "_view_module": "@jupyter-widgets/base",
            "overflow": null,
            "_model_module_version": "1.2.0",
            "_view_count": null,
            "flex_flow": null,
            "width": null,
            "min_width": null,
            "border": null,
            "align_items": null,
            "bottom": null,
            "_model_module": "@jupyter-widgets/base",
            "top": null,
            "grid_column": null,
            "overflow_y": null,
            "overflow_x": null,
            "grid_auto_flow": null,
            "grid_area": null,
            "grid_template_columns": null,
            "flex": null,
            "_model_name": "LayoutModel",
            "justify_items": null,
            "grid_row": null,
            "max_height": null,
            "align_content": null,
            "visibility": null,
            "align_self": null,
            "height": null,
            "min_height": null,
            "padding": null,
            "grid_auto_rows": null,
            "grid_gap": null,
            "max_width": null,
            "order": null,
            "_view_module_version": "1.2.0",
            "grid_template_areas": null,
            "object_position": null,
            "object_fit": null,
            "grid_auto_columns": null,
            "margin": null,
            "display": null,
            "left": null
          }
        },
        "25c54b5c1ff24091b6852b40d23c932f": {
          "model_module": "@jupyter-widgets/controls",
          "model_name": "HBoxModel",
          "state": {
            "_view_name": "HBoxView",
            "_dom_classes": [],
            "_model_name": "HBoxModel",
            "_view_module": "@jupyter-widgets/controls",
            "_model_module_version": "1.5.0",
            "_view_count": null,
            "_view_module_version": "1.5.0",
            "box_style": "",
            "layout": "IPY_MODEL_bc028805d9d842ffac531f68462c8752",
            "_model_module": "@jupyter-widgets/controls",
            "children": [
              "IPY_MODEL_0211ec403b304463ac17068d9b47986d",
              "IPY_MODEL_48f1549a72d54464884a76e1f2b86226"
            ]
          }
        },
        "bc028805d9d842ffac531f68462c8752": {
          "model_module": "@jupyter-widgets/base",
          "model_name": "LayoutModel",
          "state": {
            "_view_name": "LayoutView",
            "grid_template_rows": null,
            "right": null,
            "justify_content": null,
            "_view_module": "@jupyter-widgets/base",
            "overflow": null,
            "_model_module_version": "1.2.0",
            "_view_count": null,
            "flex_flow": null,
            "width": null,
            "min_width": null,
            "border": null,
            "align_items": null,
            "bottom": null,
            "_model_module": "@jupyter-widgets/base",
            "top": null,
            "grid_column": null,
            "overflow_y": null,
            "overflow_x": null,
            "grid_auto_flow": null,
            "grid_area": null,
            "grid_template_columns": null,
            "flex": null,
            "_model_name": "LayoutModel",
            "justify_items": null,
            "grid_row": null,
            "max_height": null,
            "align_content": null,
            "visibility": null,
            "align_self": null,
            "height": null,
            "min_height": null,
            "padding": null,
            "grid_auto_rows": null,
            "grid_gap": null,
            "max_width": null,
            "order": null,
            "_view_module_version": "1.2.0",
            "grid_template_areas": null,
            "object_position": null,
            "object_fit": null,
            "grid_auto_columns": null,
            "margin": null,
            "display": null,
            "left": null
          }
        },
        "0211ec403b304463ac17068d9b47986d": {
          "model_module": "@jupyter-widgets/controls",
          "model_name": "FloatProgressModel",
          "state": {
            "_view_name": "ProgressView",
            "style": "IPY_MODEL_4e3471e754554080af5d55f3c5243f02",
            "_dom_classes": [],
            "description": " 44%",
            "_model_name": "FloatProgressModel",
            "bar_style": "danger",
            "max": 13368,
            "_view_module": "@jupyter-widgets/controls",
            "_model_module_version": "1.5.0",
            "value": 5841,
            "_view_count": null,
            "_view_module_version": "1.5.0",
            "orientation": "horizontal",
            "min": 0,
            "description_tooltip": null,
            "_model_module": "@jupyter-widgets/controls",
            "layout": "IPY_MODEL_c5d91a1c481c4d268ec725c775e7bb3d"
          }
        },
        "48f1549a72d54464884a76e1f2b86226": {
          "model_module": "@jupyter-widgets/controls",
          "model_name": "HTMLModel",
          "state": {
            "_view_name": "HTMLView",
            "style": "IPY_MODEL_b61273d85e144b21bfb02bd52707cc6d",
            "_dom_classes": [],
            "description": "",
            "_model_name": "HTMLModel",
            "placeholder": "​",
            "_view_module": "@jupyter-widgets/controls",
            "_model_module_version": "1.5.0",
            "value": " 5841/13368 [00:00&lt;00:00, 58407.27 examples/s]",
            "_view_count": null,
            "_view_module_version": "1.5.0",
            "description_tooltip": null,
            "_model_module": "@jupyter-widgets/controls",
            "layout": "IPY_MODEL_2e93a978bfec4449ac0d7cdc1919d370"
          }
        },
        "4e3471e754554080af5d55f3c5243f02": {
          "model_module": "@jupyter-widgets/controls",
          "model_name": "ProgressStyleModel",
          "state": {
            "_view_name": "StyleView",
            "_model_name": "ProgressStyleModel",
            "description_width": "initial",
            "_view_module": "@jupyter-widgets/base",
            "_model_module_version": "1.5.0",
            "_view_count": null,
            "_view_module_version": "1.2.0",
            "bar_color": null,
            "_model_module": "@jupyter-widgets/controls"
          }
        },
        "c5d91a1c481c4d268ec725c775e7bb3d": {
          "model_module": "@jupyter-widgets/base",
          "model_name": "LayoutModel",
          "state": {
            "_view_name": "LayoutView",
            "grid_template_rows": null,
            "right": null,
            "justify_content": null,
            "_view_module": "@jupyter-widgets/base",
            "overflow": null,
            "_model_module_version": "1.2.0",
            "_view_count": null,
            "flex_flow": null,
            "width": null,
            "min_width": null,
            "border": null,
            "align_items": null,
            "bottom": null,
            "_model_module": "@jupyter-widgets/base",
            "top": null,
            "grid_column": null,
            "overflow_y": null,
            "overflow_x": null,
            "grid_auto_flow": null,
            "grid_area": null,
            "grid_template_columns": null,
            "flex": null,
            "_model_name": "LayoutModel",
            "justify_items": null,
            "grid_row": null,
            "max_height": null,
            "align_content": null,
            "visibility": null,
            "align_self": null,
            "height": null,
            "min_height": null,
            "padding": null,
            "grid_auto_rows": null,
            "grid_gap": null,
            "max_width": null,
            "order": null,
            "_view_module_version": "1.2.0",
            "grid_template_areas": null,
            "object_position": null,
            "object_fit": null,
            "grid_auto_columns": null,
            "margin": null,
            "display": null,
            "left": null
          }
        },
        "b61273d85e144b21bfb02bd52707cc6d": {
          "model_module": "@jupyter-widgets/controls",
          "model_name": "DescriptionStyleModel",
          "state": {
            "_view_name": "StyleView",
            "_model_name": "DescriptionStyleModel",
            "description_width": "",
            "_view_module": "@jupyter-widgets/base",
            "_model_module_version": "1.5.0",
            "_view_count": null,
            "_view_module_version": "1.2.0",
            "_model_module": "@jupyter-widgets/controls"
          }
        },
        "2e93a978bfec4449ac0d7cdc1919d370": {
          "model_module": "@jupyter-widgets/base",
          "model_name": "LayoutModel",
          "state": {
            "_view_name": "LayoutView",
            "grid_template_rows": null,
            "right": null,
            "justify_content": null,
            "_view_module": "@jupyter-widgets/base",
            "overflow": null,
            "_model_module_version": "1.2.0",
            "_view_count": null,
            "flex_flow": null,
            "width": null,
            "min_width": null,
            "border": null,
            "align_items": null,
            "bottom": null,
            "_model_module": "@jupyter-widgets/base",
            "top": null,
            "grid_column": null,
            "overflow_y": null,
            "overflow_x": null,
            "grid_auto_flow": null,
            "grid_area": null,
            "grid_template_columns": null,
            "flex": null,
            "_model_name": "LayoutModel",
            "justify_items": null,
            "grid_row": null,
            "max_height": null,
            "align_content": null,
            "visibility": null,
            "align_self": null,
            "height": null,
            "min_height": null,
            "padding": null,
            "grid_auto_rows": null,
            "grid_gap": null,
            "max_width": null,
            "order": null,
            "_view_module_version": "1.2.0",
            "grid_template_areas": null,
            "object_position": null,
            "object_fit": null,
            "grid_auto_columns": null,
            "margin": null,
            "display": null,
            "left": null
          }
        },
        "65f0f1f9847e448185575d861bf356c0": {
          "model_module": "@jupyter-widgets/controls",
          "model_name": "HBoxModel",
          "state": {
            "_view_name": "HBoxView",
            "_dom_classes": [],
            "_model_name": "HBoxModel",
            "_view_module": "@jupyter-widgets/controls",
            "_model_module_version": "1.5.0",
            "_view_count": null,
            "_view_module_version": "1.5.0",
            "box_style": "",
            "layout": "IPY_MODEL_15b7ad03390a4c22af8445c9e4ad8b86",
            "_model_module": "@jupyter-widgets/controls",
            "children": [
              "IPY_MODEL_34910d2dd19c44feb42c7d75a3b11fd4",
              "IPY_MODEL_9325f8369e744e938de2d3fd55192b18"
            ]
          }
        },
        "15b7ad03390a4c22af8445c9e4ad8b86": {
          "model_module": "@jupyter-widgets/base",
          "model_name": "LayoutModel",
          "state": {
            "_view_name": "LayoutView",
            "grid_template_rows": null,
            "right": null,
            "justify_content": null,
            "_view_module": "@jupyter-widgets/base",
            "overflow": null,
            "_model_module_version": "1.2.0",
            "_view_count": null,
            "flex_flow": null,
            "width": null,
            "min_width": null,
            "border": null,
            "align_items": null,
            "bottom": null,
            "_model_module": "@jupyter-widgets/base",
            "top": null,
            "grid_column": null,
            "overflow_y": null,
            "overflow_x": null,
            "grid_auto_flow": null,
            "grid_area": null,
            "grid_template_columns": null,
            "flex": null,
            "_model_name": "LayoutModel",
            "justify_items": null,
            "grid_row": null,
            "max_height": null,
            "align_content": null,
            "visibility": null,
            "align_self": null,
            "height": null,
            "min_height": null,
            "padding": null,
            "grid_auto_rows": null,
            "grid_gap": null,
            "max_width": null,
            "order": null,
            "_view_module_version": "1.2.0",
            "grid_template_areas": null,
            "object_position": null,
            "object_fit": null,
            "grid_auto_columns": null,
            "margin": null,
            "display": null,
            "left": null
          }
        },
        "34910d2dd19c44feb42c7d75a3b11fd4": {
          "model_module": "@jupyter-widgets/controls",
          "model_name": "FloatProgressModel",
          "state": {
            "_view_name": "ProgressView",
            "style": "IPY_MODEL_72fd36e5e40a453588364cba0d24e24b",
            "_dom_classes": [],
            "description": "100%",
            "_model_name": "FloatProgressModel",
            "bar_style": "",
            "max": 11490,
            "_view_module": "@jupyter-widgets/controls",
            "_model_module_version": "1.5.0",
            "value": 11490,
            "_view_count": null,
            "_view_module_version": "1.5.0",
            "orientation": "horizontal",
            "min": 0,
            "description_tooltip": null,
            "_model_module": "@jupyter-widgets/controls",
            "layout": "IPY_MODEL_432fa7630a474a49b2d8171dcf712cae"
          }
        },
        "9325f8369e744e938de2d3fd55192b18": {
          "model_module": "@jupyter-widgets/controls",
          "model_name": "HTMLModel",
          "state": {
            "_view_name": "HTMLView",
            "style": "IPY_MODEL_e1296a666e3b404796d84ebc82a09ce3",
            "_dom_classes": [],
            "description": "",
            "_model_name": "HTMLModel",
            "placeholder": "​",
            "_view_module": "@jupyter-widgets/controls",
            "_model_module_version": "1.5.0",
            "value": " 11490/11490 [00:07&lt;00:00, 1522.55 examples/s]",
            "_view_count": null,
            "_view_module_version": "1.5.0",
            "description_tooltip": null,
            "_model_module": "@jupyter-widgets/controls",
            "layout": "IPY_MODEL_c0638578add94e5fb2a6ca1dd3dd529f"
          }
        },
        "72fd36e5e40a453588364cba0d24e24b": {
          "model_module": "@jupyter-widgets/controls",
          "model_name": "ProgressStyleModel",
          "state": {
            "_view_name": "StyleView",
            "_model_name": "ProgressStyleModel",
            "description_width": "initial",
            "_view_module": "@jupyter-widgets/base",
            "_model_module_version": "1.5.0",
            "_view_count": null,
            "_view_module_version": "1.2.0",
            "bar_color": null,
            "_model_module": "@jupyter-widgets/controls"
          }
        },
        "432fa7630a474a49b2d8171dcf712cae": {
          "model_module": "@jupyter-widgets/base",
          "model_name": "LayoutModel",
          "state": {
            "_view_name": "LayoutView",
            "grid_template_rows": null,
            "right": null,
            "justify_content": null,
            "_view_module": "@jupyter-widgets/base",
            "overflow": null,
            "_model_module_version": "1.2.0",
            "_view_count": null,
            "flex_flow": null,
            "width": null,
            "min_width": null,
            "border": null,
            "align_items": null,
            "bottom": null,
            "_model_module": "@jupyter-widgets/base",
            "top": null,
            "grid_column": null,
            "overflow_y": null,
            "overflow_x": null,
            "grid_auto_flow": null,
            "grid_area": null,
            "grid_template_columns": null,
            "flex": null,
            "_model_name": "LayoutModel",
            "justify_items": null,
            "grid_row": null,
            "max_height": null,
            "align_content": null,
            "visibility": null,
            "align_self": null,
            "height": null,
            "min_height": null,
            "padding": null,
            "grid_auto_rows": null,
            "grid_gap": null,
            "max_width": null,
            "order": null,
            "_view_module_version": "1.2.0",
            "grid_template_areas": null,
            "object_position": null,
            "object_fit": null,
            "grid_auto_columns": null,
            "margin": null,
            "display": null,
            "left": null
          }
        },
        "e1296a666e3b404796d84ebc82a09ce3": {
          "model_module": "@jupyter-widgets/controls",
          "model_name": "DescriptionStyleModel",
          "state": {
            "_view_name": "StyleView",
            "_model_name": "DescriptionStyleModel",
            "description_width": "",
            "_view_module": "@jupyter-widgets/base",
            "_model_module_version": "1.5.0",
            "_view_count": null,
            "_view_module_version": "1.2.0",
            "_model_module": "@jupyter-widgets/controls"
          }
        },
        "c0638578add94e5fb2a6ca1dd3dd529f": {
          "model_module": "@jupyter-widgets/base",
          "model_name": "LayoutModel",
          "state": {
            "_view_name": "LayoutView",
            "grid_template_rows": null,
            "right": null,
            "justify_content": null,
            "_view_module": "@jupyter-widgets/base",
            "overflow": null,
            "_model_module_version": "1.2.0",
            "_view_count": null,
            "flex_flow": null,
            "width": null,
            "min_width": null,
            "border": null,
            "align_items": null,
            "bottom": null,
            "_model_module": "@jupyter-widgets/base",
            "top": null,
            "grid_column": null,
            "overflow_y": null,
            "overflow_x": null,
            "grid_auto_flow": null,
            "grid_area": null,
            "grid_template_columns": null,
            "flex": null,
            "_model_name": "LayoutModel",
            "justify_items": null,
            "grid_row": null,
            "max_height": null,
            "align_content": null,
            "visibility": null,
            "align_self": null,
            "height": null,
            "min_height": null,
            "padding": null,
            "grid_auto_rows": null,
            "grid_gap": null,
            "max_width": null,
            "order": null,
            "_view_module_version": "1.2.0",
            "grid_template_areas": null,
            "object_position": null,
            "object_fit": null,
            "grid_auto_columns": null,
            "margin": null,
            "display": null,
            "left": null
          }
        },
        "b774b0aa5c154838a2dcb5e45d1f8f43": {
          "model_module": "@jupyter-widgets/controls",
          "model_name": "HBoxModel",
          "state": {
            "_view_name": "HBoxView",
            "_dom_classes": [],
            "_model_name": "HBoxModel",
            "_view_module": "@jupyter-widgets/controls",
            "_model_module_version": "1.5.0",
            "_view_count": null,
            "_view_module_version": "1.5.0",
            "box_style": "",
            "layout": "IPY_MODEL_d603c612346f42a084edd17688be4491",
            "_model_module": "@jupyter-widgets/controls",
            "children": [
              "IPY_MODEL_080d3cf0272d45bcbc9dd282a4236d5f",
              "IPY_MODEL_e419fa70a6524ed89251bf6793484453"
            ]
          }
        },
        "d603c612346f42a084edd17688be4491": {
          "model_module": "@jupyter-widgets/base",
          "model_name": "LayoutModel",
          "state": {
            "_view_name": "LayoutView",
            "grid_template_rows": null,
            "right": null,
            "justify_content": null,
            "_view_module": "@jupyter-widgets/base",
            "overflow": null,
            "_model_module_version": "1.2.0",
            "_view_count": null,
            "flex_flow": null,
            "width": null,
            "min_width": null,
            "border": null,
            "align_items": null,
            "bottom": null,
            "_model_module": "@jupyter-widgets/base",
            "top": null,
            "grid_column": null,
            "overflow_y": null,
            "overflow_x": null,
            "grid_auto_flow": null,
            "grid_area": null,
            "grid_template_columns": null,
            "flex": null,
            "_model_name": "LayoutModel",
            "justify_items": null,
            "grid_row": null,
            "max_height": null,
            "align_content": null,
            "visibility": null,
            "align_self": null,
            "height": null,
            "min_height": null,
            "padding": null,
            "grid_auto_rows": null,
            "grid_gap": null,
            "max_width": null,
            "order": null,
            "_view_module_version": "1.2.0",
            "grid_template_areas": null,
            "object_position": null,
            "object_fit": null,
            "grid_auto_columns": null,
            "margin": null,
            "display": null,
            "left": null
          }
        },
        "080d3cf0272d45bcbc9dd282a4236d5f": {
          "model_module": "@jupyter-widgets/controls",
          "model_name": "FloatProgressModel",
          "state": {
            "_view_name": "ProgressView",
            "style": "IPY_MODEL_2bd4804f16994aee9a1372ba3af1c414",
            "_dom_classes": [],
            "description": " 77%",
            "_model_name": "FloatProgressModel",
            "bar_style": "danger",
            "max": 11490,
            "_view_module": "@jupyter-widgets/controls",
            "_model_module_version": "1.5.0",
            "value": 8819,
            "_view_count": null,
            "_view_module_version": "1.5.0",
            "orientation": "horizontal",
            "min": 0,
            "description_tooltip": null,
            "_model_module": "@jupyter-widgets/controls",
            "layout": "IPY_MODEL_2a686f0ab5e5409b860e2dedec4f7522"
          }
        },
        "e419fa70a6524ed89251bf6793484453": {
          "model_module": "@jupyter-widgets/controls",
          "model_name": "HTMLModel",
          "state": {
            "_view_name": "HTMLView",
            "style": "IPY_MODEL_036457c9d406422f9a66ee53f98402f8",
            "_dom_classes": [],
            "description": "",
            "_model_name": "HTMLModel",
            "placeholder": "​",
            "_view_module": "@jupyter-widgets/controls",
            "_model_module_version": "1.5.0",
            "value": " 8819/11490 [00:16&lt;00:00, 88182.09 examples/s]",
            "_view_count": null,
            "_view_module_version": "1.5.0",
            "description_tooltip": null,
            "_model_module": "@jupyter-widgets/controls",
            "layout": "IPY_MODEL_902f9b59edd84840be2199d676f2c842"
          }
        },
        "2bd4804f16994aee9a1372ba3af1c414": {
          "model_module": "@jupyter-widgets/controls",
          "model_name": "ProgressStyleModel",
          "state": {
            "_view_name": "StyleView",
            "_model_name": "ProgressStyleModel",
            "description_width": "initial",
            "_view_module": "@jupyter-widgets/base",
            "_model_module_version": "1.5.0",
            "_view_count": null,
            "_view_module_version": "1.2.0",
            "bar_color": null,
            "_model_module": "@jupyter-widgets/controls"
          }
        },
        "2a686f0ab5e5409b860e2dedec4f7522": {
          "model_module": "@jupyter-widgets/base",
          "model_name": "LayoutModel",
          "state": {
            "_view_name": "LayoutView",
            "grid_template_rows": null,
            "right": null,
            "justify_content": null,
            "_view_module": "@jupyter-widgets/base",
            "overflow": null,
            "_model_module_version": "1.2.0",
            "_view_count": null,
            "flex_flow": null,
            "width": null,
            "min_width": null,
            "border": null,
            "align_items": null,
            "bottom": null,
            "_model_module": "@jupyter-widgets/base",
            "top": null,
            "grid_column": null,
            "overflow_y": null,
            "overflow_x": null,
            "grid_auto_flow": null,
            "grid_area": null,
            "grid_template_columns": null,
            "flex": null,
            "_model_name": "LayoutModel",
            "justify_items": null,
            "grid_row": null,
            "max_height": null,
            "align_content": null,
            "visibility": null,
            "align_self": null,
            "height": null,
            "min_height": null,
            "padding": null,
            "grid_auto_rows": null,
            "grid_gap": null,
            "max_width": null,
            "order": null,
            "_view_module_version": "1.2.0",
            "grid_template_areas": null,
            "object_position": null,
            "object_fit": null,
            "grid_auto_columns": null,
            "margin": null,
            "display": null,
            "left": null
          }
        },
        "036457c9d406422f9a66ee53f98402f8": {
          "model_module": "@jupyter-widgets/controls",
          "model_name": "DescriptionStyleModel",
          "state": {
            "_view_name": "StyleView",
            "_model_name": "DescriptionStyleModel",
            "description_width": "",
            "_view_module": "@jupyter-widgets/base",
            "_model_module_version": "1.5.0",
            "_view_count": null,
            "_view_module_version": "1.2.0",
            "_model_module": "@jupyter-widgets/controls"
          }
        },
        "902f9b59edd84840be2199d676f2c842": {
          "model_module": "@jupyter-widgets/base",
          "model_name": "LayoutModel",
          "state": {
            "_view_name": "LayoutView",
            "grid_template_rows": null,
            "right": null,
            "justify_content": null,
            "_view_module": "@jupyter-widgets/base",
            "overflow": null,
            "_model_module_version": "1.2.0",
            "_view_count": null,
            "flex_flow": null,
            "width": null,
            "min_width": null,
            "border": null,
            "align_items": null,
            "bottom": null,
            "_model_module": "@jupyter-widgets/base",
            "top": null,
            "grid_column": null,
            "overflow_y": null,
            "overflow_x": null,
            "grid_auto_flow": null,
            "grid_area": null,
            "grid_template_columns": null,
            "flex": null,
            "_model_name": "LayoutModel",
            "justify_items": null,
            "grid_row": null,
            "max_height": null,
            "align_content": null,
            "visibility": null,
            "align_self": null,
            "height": null,
            "min_height": null,
            "padding": null,
            "grid_auto_rows": null,
            "grid_gap": null,
            "max_width": null,
            "order": null,
            "_view_module_version": "1.2.0",
            "grid_template_areas": null,
            "object_position": null,
            "object_fit": null,
            "grid_auto_columns": null,
            "margin": null,
            "display": null,
            "left": null
          }
        }
      }
    }
  },
  "cells": [
    {
      "cell_type": "markdown",
      "metadata": {
        "id": "cnhvnjRoBCmr"
      },
      "source": [
        "# Article Summarizer Implementation with Transformer\n",
        "\n",
        "---\n",
        "\n",
        "### References\n",
        "\n",
        "This notebook was learned and modified from the assignment of the course [Natural Language Processing with Attention Models](https://www.coursera.org/learn/attention-models-in-nlp) on *Coursera* with the following amendments:\n",
        "\n",
        "1. Instead of using a pre-trained model, I built and trained the summarizer **from scratch**\n",
        "\n",
        "2. You can choose between 2 datasets (`multi_news` and `cnn_dailymail`)\n",
        "\n",
        "3. I cleaned up and rewrote the part of building the Transformer model to make parameter tuning easier. The codes for the multi-head attention layer is more compact.\n",
        "\n",
        "4. The sumarizer can be tested on the evlaution dataset or a custom article.\n",
        "---\n",
        "\n",
        "### Project Summary\n",
        "\n",
        "After training on the cnn_dailymail dataset for 100,000 epochs, the model achieved the **accuracy of 36%** on the test set.\n",
        "\n",
        "---\n",
        "### The Reformer Paper\n",
        "\n",
        "A. Vaswani et al., **Attention is All You Need**\n",
        "\n",
        "https://arxiv.org/abs/1706.03762\n",
        "\n",
        "---"
      ]
    },
    {
      "cell_type": "markdown",
      "metadata": {
        "id": "PnVwhrp3BORr"
      },
      "source": [
        "## Step 1: Install Prerequisites"
      ]
    },
    {
      "cell_type": "markdown",
      "metadata": {
        "id": "CB-gIwaNRiqp"
      },
      "source": [
        "### 1-1 Install Trax"
      ]
    },
    {
      "cell_type": "code",
      "metadata": {
        "id": "ZjlyLRO6XTCf",
        "outputId": "8d5aa9f4-76e6-4c7a-b9e4-53c8c9efa17b",
        "colab": {
          "base_uri": "https://localhost:8080/"
        }
      },
      "source": [
        "!pip -q install trax"
      ],
      "execution_count": 1,
      "outputs": [
        {
          "output_type": "stream",
          "text": [
            "\u001b[K     |████████████████████████████████| 471kB 8.5MB/s \n",
            "\u001b[K     |████████████████████████████████| 174kB 24.2MB/s \n",
            "\u001b[K     |████████████████████████████████| 2.6MB 24.4MB/s \n",
            "\u001b[K     |████████████████████████████████| 71kB 8.6MB/s \n",
            "\u001b[K     |████████████████████████████████| 1.3MB 63.9MB/s \n",
            "\u001b[K     |████████████████████████████████| 1.1MB 62.9MB/s \n",
            "\u001b[K     |████████████████████████████████| 3.6MB 44.0MB/s \n",
            "\u001b[K     |████████████████████████████████| 348kB 56.7MB/s \n",
            "\u001b[K     |████████████████████████████████| 2.9MB 64.2MB/s \n",
            "\u001b[K     |████████████████████████████████| 890kB 41.6MB/s \n",
            "\u001b[?25h  Building wheel for sacremoses (setup.py) ... \u001b[?25l\u001b[?25hdone\n",
            "\u001b[31mERROR: transformers 3.5.0 has requirement sentencepiece==0.1.91, but you'll have sentencepiece 0.1.94 which is incompatible.\u001b[0m\n"
          ],
          "name": "stdout"
        }
      ]
    },
    {
      "cell_type": "markdown",
      "metadata": {
        "id": "kKQfsHp9Btu9"
      },
      "source": [
        "### 1-2 Import Libraries"
      ]
    },
    {
      "cell_type": "code",
      "metadata": {
        "id": "lxJLOSgVWzAQ"
      },
      "source": [
        "import sys\n",
        "import os\n",
        "\n",
        "import numpy as np\n",
        "\n",
        "import trax\n",
        "\n",
        "from trax import layers as tl\n",
        "from trax.fastmath import numpy as fastnp\n",
        "from trax.supervised import training\n",
        "\n",
        "import matplotlib.pyplot as plt\n",
        "%matplotlib inline"
      ],
      "execution_count": 2,
      "outputs": []
    },
    {
      "cell_type": "markdown",
      "metadata": {
        "id": "eok8Ss7OXp84"
      },
      "source": [
        "## Step 2: Download the dataset\n",
        "\n",
        "### 2-1 Determine the dataset\n",
        "\n",
        "Dataset can either be `multi_news` or `cnn_dailymail`\n",
        "\n",
        "**multi_news**\n",
        "\n",
        "The `multi_news` dataset is 245 MB. It contains 44,972 training data.\n",
        "\n",
        "The articles and summaries can be loaded by calling `keys = ('documents', 'summary')`\n",
        "\n",
        "**cnn_dailymail**\n",
        "\n",
        "The `cnn_dailymail` dataset is ? MB. It contains ? training data.\n",
        "\n",
        "The articles and summaries can be loaded by calling `keys = ('article', 'highlights')`"
      ]
    },
    {
      "cell_type": "code",
      "metadata": {
        "id": "bKqqkBHuqGXb",
        "outputId": "818590d4-527c-4f66-a833-84786381cf31",
        "colab": {
          "base_uri": "https://localhost:8080/",
          "height": 409,
          "referenced_widgets": [
            "bf135da14ed44783aff5558170cdbd31",
            "ad2b179af8344f5c8f95831eff7f4de9",
            "685f727ca4bd4bacbc8308c657c810c9",
            "6af506ad48f942abbab0c3f2f720af7c",
            "78fe6e231e894c4fbf59868a16f9302a",
            "b881dfb955124444845ab7a5a3326ef3",
            "12dfab024d6d4854b9a077604b55d62f",
            "618d6fd63be74b3799e8fafe1ea6a4e4",
            "6cf11591d3424cc69c7f95e936a176a1",
            "d1fea61a7f1b47769720584b371ef30e",
            "7f6fa25f4430442a8bdaff5d64aedd3f",
            "47507e841e064c43b772a5e82a1571b8",
            "d3ccab34a79b4ab78b0addce409ebc53",
            "c372a604bcd84e648096781529a8ae62",
            "b4f24b8e77c5405493acf9da8029d074",
            "bddf50c79a20401c898aa751396e3540",
            "9a161d946b3b488090a87bb3547766be",
            "eebea41714584553ac9c2fed2a0c21e5",
            "15c63ae26afb4cb5acc8856d946de382",
            "5095fccd130a4fb6b22c247902472c50",
            "d396fb604e6b4d30951b057bce75445f",
            "0181bb06493f4cea9b7392162c839641",
            "97c5cb8fad7d4a7d9e6e009acba7558e",
            "dbbd5d9d77014e9db2cf1e18579af53c",
            "94ecbcbfa5294e0f958f9a4cf3b3cb89",
            "fe5e46720d1648b9849cc934c1b08b8f",
            "075037cf4e1340698e718b26783ae696",
            "1e875a6439df4d4fa5b56913334b0680",
            "0c813a4524324d91bcd8f36d1a29121a",
            "a4d18bea10bf4903b177e2940fe6e88f",
            "13c980b2f2d0406b9faf0b55d1045889",
            "4ba2a0832f9a43c3b7d7539c8cc73226",
            "249531bc9fa549b49d03c31cbe18f8af",
            "2de6b92a2ff843d495b538896f0ffea4",
            "4920b0f927834474acc18a7d7567f4f7",
            "f3cd161b08a44bc8904d1754ef9d4285",
            "d6a8dfc8cbc34fe49f0ec770d3d9e0a0",
            "999c4e42cfc541a18343ab55b750499d",
            "ca94cc0622cd4149988c7b5d94cc3097",
            "c8ccfee2404b475ba1b619bbffd39aee",
            "c29e442fe5cd451b835b9f463d671441",
            "a44a8319848940429fc5844205de866c",
            "cc465c3494544ac69e4e7f5932ab1fa1",
            "a5d42f1f4d1540deab593acace8ad6cc",
            "261c9b9347ab4bb8930f59a9fb441602",
            "ad7801b698b14fe1b5586594fb32447f",
            "7bd70e611b01432cb4357650a0638c6f",
            "772ad500320e4243ae6346d801b84f71",
            "135281e6d0cb4edf83f3ca46a7fbe12c",
            "b9d431a1300f4324b592e748a7b36978",
            "9a83d2ff028641a48439b67c65bea649",
            "0a4151c03aa746e6be9233df6a8390f2",
            "cbf388b28cb9404a9b4d9bd94f3610e0",
            "f38b684b2df449f59384612e2f24ec08",
            "4a7286dda3724ccfa116a3fd1c6f9763",
            "d799fc07e5f449e99fd40c7f7e501028",
            "25c54b5c1ff24091b6852b40d23c932f",
            "bc028805d9d842ffac531f68462c8752",
            "0211ec403b304463ac17068d9b47986d",
            "48f1549a72d54464884a76e1f2b86226",
            "4e3471e754554080af5d55f3c5243f02",
            "c5d91a1c481c4d268ec725c775e7bb3d",
            "b61273d85e144b21bfb02bd52707cc6d",
            "2e93a978bfec4449ac0d7cdc1919d370",
            "65f0f1f9847e448185575d861bf356c0",
            "15b7ad03390a4c22af8445c9e4ad8b86",
            "34910d2dd19c44feb42c7d75a3b11fd4",
            "9325f8369e744e938de2d3fd55192b18",
            "72fd36e5e40a453588364cba0d24e24b",
            "432fa7630a474a49b2d8171dcf712cae",
            "e1296a666e3b404796d84ebc82a09ce3",
            "c0638578add94e5fb2a6ca1dd3dd529f",
            "b774b0aa5c154838a2dcb5e45d1f8f43",
            "d603c612346f42a084edd17688be4491",
            "080d3cf0272d45bcbc9dd282a4236d5f",
            "e419fa70a6524ed89251bf6793484453",
            "2bd4804f16994aee9a1372ba3af1c414",
            "2a686f0ab5e5409b860e2dedec4f7522",
            "036457c9d406422f9a66ee53f98402f8",
            "902f9b59edd84840be2199d676f2c842"
          ]
        }
      },
      "source": [
        "## Determine dataset\n",
        "dataset_name = 'cnn_dailymail'\n",
        "\n",
        "if dataset_name == 'multi_news':\n",
        "    dataset_keys = ('document', 'summary')\n",
        "elif dataset_name == 'cnn_dailymail':\n",
        "    dataset_keys = ('article', 'highlights')\n",
        "\n",
        "\n",
        "## Training stream generator\n",
        "train_stream_generator = trax.data.TFDS(dataset_name, keys = dataset_keys, train = True)()\n",
        "\n",
        "## Training stream generator\n",
        "test_stream_generator = trax.data.TFDS(dataset_name, keys = dataset_keys, train = False)()"
      ],
      "execution_count": 3,
      "outputs": [
        {
          "output_type": "stream",
          "text": [
            "\u001b[1mDownloading and preparing dataset cnn_dailymail/3.1.0 (download: 558.32 MiB, generated: 1.27 GiB, total: 1.82 GiB) to /root/tensorflow_datasets/cnn_dailymail/3.1.0...\u001b[0m\n"
          ],
          "name": "stdout"
        },
        {
          "output_type": "display_data",
          "data": {
            "application/vnd.jupyter.widget-view+json": {
              "model_id": "bf135da14ed44783aff5558170cdbd31",
              "version_minor": 0,
              "version_major": 2
            },
            "text/plain": [
              "HBox(children=(FloatProgress(value=1.0, bar_style='info', description='Dl Completed...', max=1.0, style=Progre…"
            ]
          },
          "metadata": {
            "tags": []
          }
        },
        {
          "output_type": "display_data",
          "data": {
            "application/vnd.jupyter.widget-view+json": {
              "model_id": "6cf11591d3424cc69c7f95e936a176a1",
              "version_minor": 0,
              "version_major": 2
            },
            "text/plain": [
              "HBox(children=(FloatProgress(value=1.0, bar_style='info', description='Dl Size...', max=1.0, style=ProgressSty…"
            ]
          },
          "metadata": {
            "tags": []
          }
        },
        {
          "output_type": "display_data",
          "data": {
            "application/vnd.jupyter.widget-view+json": {
              "model_id": "9a161d946b3b488090a87bb3547766be",
              "version_minor": 0,
              "version_major": 2
            },
            "text/plain": [
              "HBox(children=(FloatProgress(value=1.0, bar_style='info', description='Extraction completed...', max=1.0, styl…"
            ]
          },
          "metadata": {
            "tags": []
          }
        },
        {
          "output_type": "stream",
          "text": [
            "\n",
            "\n",
            "\n",
            "\n",
            "\n",
            "\n"
          ],
          "name": "stdout"
        },
        {
          "output_type": "display_data",
          "data": {
            "application/vnd.jupyter.widget-view+json": {
              "model_id": "94ecbcbfa5294e0f958f9a4cf3b3cb89",
              "version_minor": 0,
              "version_major": 2
            },
            "text/plain": [
              "HBox(children=(FloatProgress(value=0.0, max=3.0), HTML(value='')))"
            ]
          },
          "metadata": {
            "tags": []
          }
        },
        {
          "output_type": "display_data",
          "data": {
            "application/vnd.jupyter.widget-view+json": {
              "model_id": "249531bc9fa549b49d03c31cbe18f8af",
              "version_minor": 0,
              "version_major": 2
            },
            "text/plain": [
              "HBox(children=(FloatProgress(value=0.0, max=287113.0), HTML(value='')))"
            ]
          },
          "metadata": {
            "tags": []
          }
        },
        {
          "output_type": "stream",
          "text": [
            "Shuffling and writing examples to /root/tensorflow_datasets/cnn_dailymail/3.1.0.incomplete7LU4XZ/cnn_dailymail-train.tfrecord\n"
          ],
          "name": "stdout"
        },
        {
          "output_type": "display_data",
          "data": {
            "application/vnd.jupyter.widget-view+json": {
              "model_id": "c29e442fe5cd451b835b9f463d671441",
              "version_minor": 0,
              "version_major": 2
            },
            "text/plain": [
              "HBox(children=(FloatProgress(value=0.0, max=287113.0), HTML(value='')))"
            ]
          },
          "metadata": {
            "tags": []
          }
        },
        {
          "output_type": "display_data",
          "data": {
            "application/vnd.jupyter.widget-view+json": {
              "model_id": "135281e6d0cb4edf83f3ca46a7fbe12c",
              "version_minor": 0,
              "version_major": 2
            },
            "text/plain": [
              "HBox(children=(FloatProgress(value=0.0, max=13368.0), HTML(value='')))"
            ]
          },
          "metadata": {
            "tags": []
          }
        },
        {
          "output_type": "stream",
          "text": [
            "Shuffling and writing examples to /root/tensorflow_datasets/cnn_dailymail/3.1.0.incomplete7LU4XZ/cnn_dailymail-validation.tfrecord\n"
          ],
          "name": "stdout"
        },
        {
          "output_type": "display_data",
          "data": {
            "application/vnd.jupyter.widget-view+json": {
              "model_id": "25c54b5c1ff24091b6852b40d23c932f",
              "version_minor": 0,
              "version_major": 2
            },
            "text/plain": [
              "HBox(children=(FloatProgress(value=0.0, max=13368.0), HTML(value='')))"
            ]
          },
          "metadata": {
            "tags": []
          }
        },
        {
          "output_type": "display_data",
          "data": {
            "application/vnd.jupyter.widget-view+json": {
              "model_id": "65f0f1f9847e448185575d861bf356c0",
              "version_minor": 0,
              "version_major": 2
            },
            "text/plain": [
              "HBox(children=(FloatProgress(value=0.0, max=11490.0), HTML(value='')))"
            ]
          },
          "metadata": {
            "tags": []
          }
        },
        {
          "output_type": "stream",
          "text": [
            "Shuffling and writing examples to /root/tensorflow_datasets/cnn_dailymail/3.1.0.incomplete7LU4XZ/cnn_dailymail-test.tfrecord\n"
          ],
          "name": "stdout"
        },
        {
          "output_type": "display_data",
          "data": {
            "application/vnd.jupyter.widget-view+json": {
              "model_id": "b774b0aa5c154838a2dcb5e45d1f8f43",
              "version_minor": 0,
              "version_major": 2
            },
            "text/plain": [
              "HBox(children=(FloatProgress(value=0.0, max=11490.0), HTML(value='')))"
            ]
          },
          "metadata": {
            "tags": []
          }
        },
        {
          "output_type": "stream",
          "text": [
            "\r\u001b[1mDataset cnn_dailymail downloaded and prepared to /root/tensorflow_datasets/cnn_dailymail/3.1.0. Subsequent calls will reuse this data.\u001b[0m\n"
          ],
          "name": "stdout"
        }
      ]
    },
    {
      "cell_type": "code",
      "metadata": {
        "id": "ok3coDwAFCT9",
        "outputId": "aea5f4c0-ca4c-4469-9eaa-dea526897e15",
        "colab": {
          "base_uri": "https://localhost:8080/"
        }
      },
      "source": [
        "## Check data format\n",
        "x = next(train_stream_generator)\n",
        "print(\"Length of each data: {}\".format(len(x)))\n",
        "print(\"\\nx[0]\")\n",
        "print(x[0])\n",
        "print(\"\\nx[1]\")\n",
        "print(x[1])\n",
        "\n",
        "y = next(test_stream_generator)\n",
        "print(\"Length of each data: {}\".format(len(y)))\n",
        "print(\"\\ny[0]\")\n",
        "print(y[0])\n",
        "print(\"\\ny[1]\")\n",
        "print(y[1])\n",
        "del x, y"
      ],
      "execution_count": 4,
      "outputs": [
        {
          "output_type": "stream",
          "text": [
            "Length of each data: 2\n",
            "\n",
            "x[0]\n",
            "b\"By . Becky Barrow . PUBLISHED: . 03:39 EST, 8 May 2012 . | . UPDATED: . 18:10 EST, 8 May 2012 . Andrew Moss: He will be paid \\xc2\\xa380,000 a month for the next year . The boss of Britain\\xe2\\x80\\x99s biggest insurance company will continue to receive his salary of \\xc2\\xa380,000 a month for the next year despite his humiliating resignation yesterday. Andrew Moss, who has quit as chief executive of Aviva after a shareholder revolt, will receive a golden goodbye worth around \\xc2\\xa31.75million in total. Last Thursday, 59 per cent of shareholder votes failed to back his gold-plated pay package worth up to \\xc2\\xa35.2million last year. It was the latest chapter in the growing backlash against boardroom greed, nicknamed the Shareholder Spring. Yesterday the 54-year-old chief executive said he \\xe2\\x80\\x98felt it was in the best interests of the company that he step aside to make way for new leadership\\xe2\\x80\\x99. But Mr Moss, who has also sparked public criticism for leaving his wife of 25 years and their four children for a junior married colleague, Deidre Galvin, in 2009, will not be leaving empty-handed. Walked: Aviva Group chief executive Andrew Moss, who is to step down with immediate effect . He will be paid his \\xc2\\xa3960,000 \\xe2\\x80\\x98basic\\xe2\\x80\\x99 annual salary for the next year, equal to \\xc2\\xa380,000 a month, unless he finds another job. Mr Moss will also get a \\xc2\\xa3300,000 bonus payment, a cash injection of \\xc2\\xa3209,000 into his pension pot in five years\\xe2\\x80\\x99 time, deferred shares from a 2009 bonus, currently worth around \\xc2\\xa3236,000, and a maximum of \\xc2\\xa345,000 in legal and other expenses. He has two pensions from Aviva: one worth around \\xc2\\xa3530,000 and one worth around \\xc2\\xa32.75million, including the \\xc2\\xa3209,000 payment. Mr Moss\\xe2\\x80\\x99s departure was announced on the eve of today\\xe2\\x80\\x99s Queen\\xe2\\x80\\x99s Speech, which is expected to fire the starting gun on a crackdown on boardroom excess and empower shareholders to veto any examples of corporate excess. Bounce: Shares in the UK's largest insurer jumped five per cent following the announcement, suggesting investors approve of Mr Moss's departure . Investor backing: The announcement was immediately followed by a spike in Aviva's shares . At present, shareholders can vote . against pay deals, but their votes are not binding on the company and . directors can still receive the controversial pay and bonuses. The main . role of such votes is to embarrass bosses and damage the firm\\xe2\\x80\\x99s . reputation. The mood of investors has turned ugly recently, triggering . the departure of bosses at drugs company AstraZeneca and newspaper group . Trinity Mirror. Turmoil: Aviva's St Helen's skyscraper looms in the City, where three CEOs have quit amid recent shareholder anger . Yesterday, . the chief executive of William Hill, Ralph Topping, was the latest . victim, with nearly 50 per cent of the betting firm\\xe2\\x80\\x99s shareholders . voting against a \\xc2\\xa31.2million bonus and a 8.3 per cent pay rise. At its . annual meeting, one angry shareholder said: \\xe2\\x80\\x98Chief executives are dining . in the last chance saloon trying to take as much as they can as soon as . possible.\\xe2\\x80\\x99 Business . Secretary Vince Cable, who has heavily criticised boardroom excess, said . bosses are finally being \\xe2\\x80\\x98brought back to reality\\xe2\\x80\\x99. He welcomed the . \\xe2\\x80\\x98uprising\\xe2\\x80\\x99 by shareholders as \\xe2\\x80\\x98a healthy development\\xe2\\x80\\x99, and said he is . determined to stamp out \\xe2\\x80\\x98rewards for failure\\xe2\\x80\\x99. Since . Mr Moss became chief executive in July 2007, Aviva\\xe2\\x80\\x99s share price has . more than halved, decimating the nest eggs of thousands of its smaller . shareholders. Liberal Democrat . Lord Oakeshott said: \\xe2\\x80\\x98Shareholder votes must be binding, otherwise it . just like a jury who acquit a man of a murder charge but the judge still . gives him 20 years. What\\xe2\\x80\\x99s the point?\\xe2\\x80\\x99 Deborah . Hargreaves, of the High Pay Centre campaign group, said: \\xe2\\x80\\x98The irony is . that Aviva was behind some of the recent pay revolts but, at the same . time, they were not looking after their own backyard. \\xe2\\x80\\x98This . is what makes Mr Moss\\xe2\\x80\\x99s payoff so intolerable. Aviva\\xe2\\x80\\x99s corporate . governance arm was lecturing others about pay and yet the company was . ignoring its own advice.\\xe2\\x80\\x99 Mr . Moss ceased to be chief executive \\xe2\\x80\\x98with immediate effect\\xe2\\x80\\x99 yesterday, but . he will not officially leave until the end of the month. Meanwhile, the average pay of bosses at Britain\\xe2\\x80\\x99s biggest public companies rose by 11 per cent last year to \\xc2\\xa33.65million, according to research published yesterday. The study, compiled for the BBC by Manifest, the adviser to shareholders, looked at the annual reports of 60 of the companies in the FTSE 100 index. On average, a chief executive gets a basic annual salary of \\xc2\\xa3840,000, a long-term incentive plan of \\xc2\\xa31.14million, a cash bonus of \\xc2\\xa3689,000 plus several other lucrative perks, according to the research. But the average worker in the private sector is losing ground, according to a report from the pay experts Incomes Data Services. The average pay rise handed out by bosses to their cash-strapped workers between January and March was 3 per cent, it says. It comes at a time when inflation is 3.5 per cent. The report found that 8 per cent of workers, who typically are employed in manufacturing, construction or the not-for-profit sector, had their pay frozen.\"\n",
            "\n",
            "x[1]\n",
            "b'Andrew Moss is third victim of recent discontent after departures at Trinity Mirror and AstraZeneca .\\nInvestors back the move as shares jump 5 per cent .\\nSmall savers and pension investors can have a voice on excessive executive pay.\\nThe Mail has teamed up with .\\nthe FairPensions campaign to offer a tool that allows you to send your views to .\\nyour pension fund or ISA provider. Vote no on fat cat pay: Find out .\\nmore .'\n",
            "Length of each data: 2\n",
            "\n",
            "y[0]\n",
            "b\"Sally Forrest, an actress-dancer who graced the silver screen throughout the '40s and '50s in MGM musicals and films such as the 1956 noir While the City Sleeps died on March 15 at her home in Beverly Hills, California. Forrest, whose birth name was Katherine Feeney, was 86 and had long battled cancer. Her publicist, Judith Goffin, announced the news Thursday. Scroll down for video . Actress: Sally Forrest was in the 1951 Ida Lupino-directed film 'Hard, Fast and Beautiful' (left) and the 1956 Fritz Lang movie 'While the City Sleeps' A San Diego native, Forrest became a protege of Hollywood trailblazer Ida Lupino, who cast her in starring roles in films including the critical and commercial success Not Wanted, Never Fear and Hard, Fast and Beautiful. Some of Forrest's other film credits included Bannerline, Son of Sinbad, and Excuse My Dust, according to her iMDB\\xc2\\xa0page. The page also indicates Forrest was in multiple Climax! and Rawhide television episodes. Forrest appeared as herself in an episode of The Ed Sullivan Show and three episodes of The Dinah Shore Chevy Show, her iMDB page says. She also starred in a Broadway production of The Seven Year Itch. City News Service reported that other stage credits included As You Like It, No, No, Nanette and Damn Yankees. Forrest married writer-producer Milo Frank in 1951. He died in 2004. She is survived by her niece, Sharon Durham, and nephews, Michael and Mark Feeney. Career: A San Diego native, Forrest became a protege of Hollywood trailblazer Ida Lupino, who cast her in starring roles in films .\"\n",
            "\n",
            "y[1]\n",
            "b\"Sally Forrest, an actress-dancer who graced the silver screen throughout the '40s and '50s in MGM musicals and films died on March 15 .\\nForrest, whose birth name was Katherine Feeney, had long battled cancer .\\nA San Diego native, Forrest became a protege of Hollywood trailblazer Ida Lupino, who cast her in starring roles in films .\"\n"
          ],
          "name": "stdout"
        }
      ]
    },
    {
      "cell_type": "markdown",
      "metadata": {
        "id": "bCJXf8QhJeMo"
      },
      "source": [
        "## Step 3: Data Preprocessing\n",
        "\n",
        "### 3-1 Helper functions to tokenize/detokenize"
      ]
    },
    {
      "cell_type": "code",
      "metadata": {
        "id": "kmXslDCYWwRe"
      },
      "source": [
        "def tokenize(sentence):\n",
        "    \"\"\"\n",
        "    Tokenizer\n",
        "\n",
        "    Input  \n",
        "            sentence: <str> the input sentence to be tokenized\n",
        "    \"\"\"\n",
        "    return list(trax.data.tokenize(iter([sentence]), vocab_file = 'en_32k.subword'))[0]\n",
        "\n",
        "\n",
        "def detokenize(tokens):\n",
        "    \"\"\"\n",
        "    Detokenizer\n",
        "\n",
        "    Input\n",
        "            tokens: <list of int> a list of tokens\n",
        "    \"\"\"\n",
        "    return trax.data.detokenize(tokens, vocab_file = 'en_32k.subword')\n"
      ],
      "execution_count": 5,
      "outputs": []
    },
    {
      "cell_type": "markdown",
      "metadata": {
        "id": "nV32otIqXgVX"
      },
      "source": [
        "### 3-2 Helper function to concatenate articles and summaries"
      ]
    },
    {
      "cell_type": "code",
      "metadata": {
        "id": "kgf0W-c2K5VT"
      },
      "source": [
        "def concatenate_stream(stream):\n",
        "    \"\"\"\n",
        "    Given a sample from the stream = (article, summary). Add a [1, 0] in between and an [1] in the end\n",
        "\n",
        "    Input\n",
        "            stream: the input stream = (article, summary). article and summary are list of tokens\n",
        "    \"\"\"\n",
        "    for (article, summary) in stream:\n",
        "        \n",
        "        # length of the article (units: number of tokens)\n",
        "        article_len = len(list(article))\n",
        "\n",
        "        # length of the summary (units: number of tokens)\n",
        "        summary_len = len(list(summary))\n",
        "\n",
        "        # concatenate to  [article_tokens, 1, 0, summary_tokens, 1]\n",
        "        concat = np.array(list(article) + [1, 0] + list(summary) + [1])\n",
        "\n",
        "        # input weights: 0s at positions [article_tokens, 1, 0] and 1s at positions [summary_tokens, 1]\n",
        "        weights = np.array([0 for _ in range(article_len + 2)] + [1 for _ in range(summary_len + 1)])\n",
        "\n",
        "        yield concat, concat, weights"
      ],
      "execution_count": 6,
      "outputs": []
    },
    {
      "cell_type": "markdown",
      "metadata": {
        "id": "FJ2GNm_ZYygh"
      },
      "source": [
        "### 3-3 Data preprocess pipeline"
      ]
    },
    {
      "cell_type": "code",
      "metadata": {
        "id": "sJ6v8KxwL-vV"
      },
      "source": [
        "MAX_DATA_LENGTH = 1024\n",
        "\n",
        "preprocess_pipeline = trax.data.Serial(trax.data.Shuffle(),\n",
        "                                       trax.data.Tokenize(vocab_file = 'en_32k.subword'),\n",
        "                                       concatenate_stream,\n",
        "                                       trax.data.FilterByLength(MAX_DATA_LENGTH),\n",
        "                                       trax.data.BucketByLength(boundaries = [128, 256, 512, 1024], batch_sizes = [16, 8, 4, 2, 1]))\n",
        "\n",
        "train_stream = preprocess_pipeline(train_stream_generator)\n",
        "test_stream = preprocess_pipeline(test_stream_generator)"
      ],
      "execution_count": 7,
      "outputs": []
    },
    {
      "cell_type": "code",
      "metadata": {
        "id": "HYJrJ7oNNo1-",
        "outputId": "c4710edb-2518-47f5-ab9f-205661bd92c7",
        "colab": {
          "base_uri": "https://localhost:8080/"
        }
      },
      "source": [
        "## check\n",
        "np.set_printoptions(threshold = sys.maxsize)\n",
        "\n",
        "x, _, y = next(train_stream)\n",
        "print(\"input.shape = {}\".format(x.shape))\n",
        "print(\"weights.shape = {}\".format(y.shape))\n",
        "print(\"\\nInput:\")\n",
        "print(x[0])\n",
        "print(\"\\nWeights:\")\n",
        "print(y[0])\n",
        "\n",
        "assert len(x[0]) == len(y[0])\n",
        "print(\"\\nLengths of input and mask are consistent\")\n",
        "\n",
        "print(\"\\nArticle:\")\n",
        "a = x[0][y[0] == 0]\n",
        "print(trax.data.detokenize(a, vocab_file = 'en_32k.subword'))\n",
        "\n",
        "print(\"\\nSummary:\")\n",
        "s = x[0][y[0] == 1]\n",
        "print(trax.data.detokenize(s, vocab_file = 'en_32k.subword'))\n",
        "\n",
        "del x, y, a, s\n",
        "\n",
        "np.set_printoptions(threshold = None)"
      ],
      "execution_count": 8,
      "outputs": [
        {
          "output_type": "stream",
          "text": [
            "input.shape = (2, 1024)\n",
            "weights.shape = (2, 1024)\n",
            "\n",
            "Input:\n",
            "[11387   301   120 16063  2053   231  5610    65     2  2448  3505  8130\n",
            "    21   837 16063    20   284     6 15699   120   590  6164     2 11305\n",
            "  5610 16063    65   415 11419  1730     2  9066  1720    43  2499  2914\n",
            "    18 24215    18    75 15384   490    76  2194   255    10    54   895\n",
            "    18   194    43     2 11305    50  1750     2    76   756    35     2\n",
            "  7315    21    27 21544     3  1129   141   512   470     2  9486   513\n",
            "  8369     8  9810 13479   895    18  5886    76  7577    35     2  9793\n",
            "  1720    21 17678     3  4174    60 11387   301  6164   216   120 16063\n",
            "  5610   194    23  1750  2053   231    35    93    44    18  5886 13122\n",
            "    23     2    76  9793  6902 19842     3    27 10013   334    46   379\n",
            "    43 24534  9624    65     2 10521 10454  5783    14  2006  1232     6\n",
            "   198  6164     2  5610  6504  2155    43  9717  1588   147  1720    51\n",
            "  1061 14452  1652    23 22515   645     2 17196  9364  1004    21   673\n",
            "   105   496    23  5411 15406     2 16596   315  9587  7444    97  6504\n",
            "  7551 14733    70    35     2   998     8   141     8     2 20370     3\n",
            "  8416 18987     6  1387    23 10598  2499  2914    18  2707 11113  7444\n",
            "    97    30     2 20833 11751 17823 16596   315    50  7684 15655    90\n",
            "    23  3085   315 12969    97     6    91    30     2 16596   315    39\n",
            "   255    10    54 19403  3274   103    65  2053   231  2630  6504  2499\n",
            "  2914    18  7164    21  1790  6253 21139    67   577     2   791    23\n",
            "  2348  9587 10876   773  7444    97  6504 10805    70   210     2  1320\n",
            "     8     2 20370     3 10940     6  1058  2499  2914    18     6  5229\n",
            "  2408 10013   334    21    27 13050    46   379   548  2400  4691 14253\n",
            "  9158 16195    70 17252    18  1652    23 15055  4707     2 11866 16900\n",
            " 22240    18  1874    43     2  6222  7965  7521    80    91     2  5610\n",
            "   105   523    21   673   105 14550  6213    63    23    22 16626    35\n",
            "     2  1720  1227 23916    10 15325     3  5707   812   194    23 22454\n",
            "     3   603    14   574     6  1387    23  2499  2914    18    21 20724\n",
            "  4339    60    27 16596   315  7444    97    65     2 15384   490   255\n",
            "    10    54  5610   194    43     2  2053   231    46   523   548  1061\n",
            " 14452    23 23253     2  1980    44    18  1720 19842     3 14391  8008\n",
            "   496  4602    60  2473   230  1368   274     8  7684  4482    35    65\n",
            "   397    35     2  8130     8     2  9066   379 21635  1593     2  5610\n",
            "  2767 19842     3    27   791 18988    93   122  2565  4417    23 15020\n",
            "    52   203  1854  5610    65     2  5886 13122    21    27 16063  5610\n",
            "  9684     2 15384   490 11305    39  1042   270   203  3776    20  4382\n",
            "  2224   204     6  1387    23 11709     3 24689   576     6 14308   191\n",
            "   230   626    14    22  1163   609 23257    18     8  2846    21  7362\n",
            "  7918     6     2  5610 25423 11277    14   105  2229    23  3216    43\n",
            " 11366  9830  3408  1652    23  7852     3   414  1656    65     2 11735\n",
            "    67  9010    14   210     2  9278   705     2  5572  2828    21  7697\n",
            "    60    27 10013   334    50     2  5610    75    65  2053   231  3500\n",
            "    35     2  9486   513  8369     8  9810 13479    14  3357  5053     3\n",
            " 11547  7499    44    18  7315 12911 19842     3 11706   118  4118    60\n",
            "  2499  2914    18   873    93   440  1133  1402   160    23 23966     2\n",
            "  5610    23   147   877 17047    68 19842     3  2053   231   895    18\n",
            "  9469  2224    23     2  7315   983   252   626   901    65  5222    23\n",
            "  6902     6  1387    23     2 22180     3   357 12745 17834    18    14\n",
            "  2006  5640    29  3085   376  6577  6977   854   293   287     6  1561\n",
            "    35     2  7315   895    18  1720    80  3646 20996  2962  7803     6\n",
            "  9810 13479 10305  3538  2061  9587     2 14260   122 18311  2475  6504\n",
            " 24974    67   371     8     2  9010    22  1007  2862   423     6 13479\n",
            " 10305  3538   873  9587    50   895    18   141   263  4324    39   353\n",
            "     6   141  7525  3459    98    39  2041  2887  2475  6504  3357  5053\n",
            "     3 11547  7499  2480  3045 13479    35    89  2158  9281  6974  8546\n",
            "     3    36 12582   632     2   306 10408    70    20 20527     3    21\n",
            "  9103     3   230   409  2862   238  6902     6     2 11796    18   715\n",
            "   147 14345   636    23  1060     6  1128    22 12720 12175  6902    20\n",
            "     2  1966  3505    35   293   409    21  2184   120 12359   705    60\n",
            "    27 15384   490  8535     2  2053   231  5629 21357   190    65  4726\n",
            "  2006  1232   293   330     6  1561 19842     3 16247   169  1069  4174\n",
            "    60  8926 16231 10598  2499  2914    18 20745     2 24178    39     2\n",
            "  5610   381    89  2499  2914    18 24215    18 11394     1     0    27\n",
            "  5610   105 16063   415 11419  1730     2  9066    44    18  1720   813\n",
            "  2114    27 10013   334  3500    35     2  9486   513  8369     8     2\n",
            "  2158  2053   231 13122   813  2114 25134    18  6164     2  5610   307\n",
            "  2155   381 16596  1139 11394     1     0     0     0     0     0     0\n",
            "     0     0     0     0     0     0     0     0     0     0     0     0\n",
            "     0     0     0     0     0     0     0     0     0     0     0     0\n",
            "     0     0     0     0     0     0     0     0     0     0     0     0\n",
            "     0     0     0     0     0     0     0     0     0     0     0     0\n",
            "     0     0     0     0     0     0     0     0     0     0     0     0\n",
            "     0     0     0     0     0     0     0     0     0     0     0     0\n",
            "     0     0     0     0     0     0     0     0     0     0     0     0\n",
            "     0     0     0     0     0     0     0     0     0     0     0     0\n",
            "     0     0     0     0     0     0     0     0     0     0     0     0\n",
            "     0     0     0     0     0     0     0     0     0     0     0     0\n",
            "     0     0     0     0     0     0     0     0     0     0     0     0\n",
            "     0     0     0     0     0     0     0     0     0     0     0     0\n",
            "     0     0     0     0     0     0     0     0     0     0     0     0\n",
            "     0     0     0     0     0     0     0     0     0     0     0     0\n",
            "     0     0     0     0     0     0     0     0     0     0     0     0\n",
            "     0     0     0     0     0     0     0     0     0     0     0     0\n",
            "     0     0     0     0     0     0     0     0     0     0     0     0\n",
            "     0     0     0     0     0     0     0     0     0     0     0     0\n",
            "     0     0     0     0]\n",
            "\n",
            "Weights:\n",
            "[0 0 0 0 0 0 0 0 0 0 0 0 0 0 0 0 0 0 0 0 0 0 0 0 0 0 0 0 0 0 0 0 0 0 0 0 0\n",
            " 0 0 0 0 0 0 0 0 0 0 0 0 0 0 0 0 0 0 0 0 0 0 0 0 0 0 0 0 0 0 0 0 0 0 0 0 0\n",
            " 0 0 0 0 0 0 0 0 0 0 0 0 0 0 0 0 0 0 0 0 0 0 0 0 0 0 0 0 0 0 0 0 0 0 0 0 0\n",
            " 0 0 0 0 0 0 0 0 0 0 0 0 0 0 0 0 0 0 0 0 0 0 0 0 0 0 0 0 0 0 0 0 0 0 0 0 0\n",
            " 0 0 0 0 0 0 0 0 0 0 0 0 0 0 0 0 0 0 0 0 0 0 0 0 0 0 0 0 0 0 0 0 0 0 0 0 0\n",
            " 0 0 0 0 0 0 0 0 0 0 0 0 0 0 0 0 0 0 0 0 0 0 0 0 0 0 0 0 0 0 0 0 0 0 0 0 0\n",
            " 0 0 0 0 0 0 0 0 0 0 0 0 0 0 0 0 0 0 0 0 0 0 0 0 0 0 0 0 0 0 0 0 0 0 0 0 0\n",
            " 0 0 0 0 0 0 0 0 0 0 0 0 0 0 0 0 0 0 0 0 0 0 0 0 0 0 0 0 0 0 0 0 0 0 0 0 0\n",
            " 0 0 0 0 0 0 0 0 0 0 0 0 0 0 0 0 0 0 0 0 0 0 0 0 0 0 0 0 0 0 0 0 0 0 0 0 0\n",
            " 0 0 0 0 0 0 0 0 0 0 0 0 0 0 0 0 0 0 0 0 0 0 0 0 0 0 0 0 0 0 0 0 0 0 0 0 0\n",
            " 0 0 0 0 0 0 0 0 0 0 0 0 0 0 0 0 0 0 0 0 0 0 0 0 0 0 0 0 0 0 0 0 0 0 0 0 0\n",
            " 0 0 0 0 0 0 0 0 0 0 0 0 0 0 0 0 0 0 0 0 0 0 0 0 0 0 0 0 0 0 0 0 0 0 0 0 0\n",
            " 0 0 0 0 0 0 0 0 0 0 0 0 0 0 0 0 0 0 0 0 0 0 0 0 0 0 0 0 0 0 0 0 0 0 0 0 0\n",
            " 0 0 0 0 0 0 0 0 0 0 0 0 0 0 0 0 0 0 0 0 0 0 0 0 0 0 0 0 0 0 0 0 0 0 0 0 0\n",
            " 0 0 0 0 0 0 0 0 0 0 0 0 0 0 0 0 0 0 0 0 0 0 0 0 0 0 0 0 0 0 0 0 0 0 0 0 0\n",
            " 0 0 0 0 0 0 0 0 0 0 0 0 0 0 0 0 0 0 0 0 0 0 0 0 0 0 0 0 0 0 0 0 0 0 0 0 0\n",
            " 0 0 0 0 0 0 0 0 0 0 0 0 0 0 0 0 0 0 0 0 0 0 0 0 0 0 0 0 0 0 0 0 0 0 0 0 0\n",
            " 0 0 0 0 0 0 0 0 0 0 0 0 0 0 0 0 0 0 0 0 0 0 0 0 0 0 0 0 0 0 0 0 0 0 0 0 0\n",
            " 0 0 0 0 0 0 0 0 0 0 0 0 0 0 0 0 0 0 0 0 0 0 0 0 0 0 0 0 0 0 0 0 0 0 0 0 0\n",
            " 0 0 0 0 0 0 0 0 0 0 0 0 0 0 0 0 0 0 0 0 0 0 0 0 0 0 0 0 0 0 0 0 0 0 0 0 0\n",
            " 0 0 0 0 0 0 0 0 0 0 0 0 0 0 0 1 1 1 1 1 1 1 1 1 1 1 1 1 1 1 1 1 1 1 1 1 1\n",
            " 1 1 1 1 1 1 1 1 1 1 1 1 1 1 1 1 1 1 1 1 1 0 0 0 0 0 0 0 0 0 0 0 0 0 0 0 0\n",
            " 0 0 0 0 0 0 0 0 0 0 0 0 0 0 0 0 0 0 0 0 0 0 0 0 0 0 0 0 0 0 0 0 0 0 0 0 0\n",
            " 0 0 0 0 0 0 0 0 0 0 0 0 0 0 0 0 0 0 0 0 0 0 0 0 0 0 0 0 0 0 0 0 0 0 0 0 0\n",
            " 0 0 0 0 0 0 0 0 0 0 0 0 0 0 0 0 0 0 0 0 0 0 0 0 0 0 0 0 0 0 0 0 0 0 0 0 0\n",
            " 0 0 0 0 0 0 0 0 0 0 0 0 0 0 0 0 0 0 0 0 0 0 0 0 0 0 0 0 0 0 0 0 0 0 0 0 0\n",
            " 0 0 0 0 0 0 0 0 0 0 0 0 0 0 0 0 0 0 0 0 0 0 0 0 0 0 0 0 0 0 0 0 0 0 0 0 0\n",
            " 0 0 0 0 0 0 0 0 0 0 0 0 0 0 0 0 0 0 0 0 0 0 0 0 0]\n",
            "\n",
            "Lengths of input and mask are consistent\n",
            "\n",
            "Article:\n",
            "Explorers have recovered Apollo 11 engines from the Atlantic Ocean floor. First recovered in March, experts have now confirmed the rocket engines recovered from three miles below the ocean surface by Bezos Expeditions are Saturn V first stage F-1’s used by the rocket that put the first men on the moon. The announcement came one day before the 44th anniversary of Neil Armstrong’s historic first steps on the lunar surface. Found!: Explorers confirmed they have recovered engines used to put Apollo 11 on it's historic voyage to the first lunar landing . The confirmation was made by conservators from the Kansas Cosmosphere and Space Center, who confirmed the engines’ origin by scanning their surface with black lights designed to notice even the smallest markings. They were able to discern the serial number ‘2044’ stenciled on the side of one of the thrust chambers, according to Jeff Bezos. ‘2044 is the Rocketdyne serial number that correlates to NASA number 6044, which is the serial number for F-1 Engine #5 from Apollo 11,’ Bezos explained. Further sleuthing led the team to find ‘Unit No 2044’ stamped into the base of the thrust chamber, wrote Bezos, providing additional confirmation. The recovery was made using highly advanced Remotely Operated Vehicles designed to withstand the immense pressures brought by the extreme depths at which the engines were found. They were tethered to a vessel on the surface via fiber-optic cables used to transmit data and power, according to Bezos. Identified: The serial number 2044 from the Saturn V F-1 engines used by the Apollo 11 was found using black lights to scan the engine's surface . Remarkable discovery: More than 43 years of corrosion from being on the floor of the ocean made identifying the engines difficult . The team believes it has enough components to assemble two complete engines from the historic voyage. The recovered engines powered the Saturn V rocket for just over two minutes in actual flight time, according to Ars Technica, burning more than four and a half million pounds of fuel. Once empty, the engines detached and were returned to earth by retrorockets designed to pull them away from the climbing spacecraft and into the waters off the Florida coast. Historic: The confirmation that the engines are from Apollo 11 comes on the 44th anniversary of Neil Armstrong and Buzz Aldrin's moon walk . Fixer upper: Bezos said it will take significant work to restore the engines to their original glory . Apollo 11’s celebrated flight to the moon took about four days from launch to landing, according to the National Aeronautics and Space Administration (NASA). Touching down July 20, 1969 on the moon’s surface at Tranquility Base, Neil Armstrong famously announced ‘the Eagle has landed.’ Bounding out of the spacecraft a few hours later, Armstrong famously said ‘that’s one small step for man, one giant leap for mankind.’ Buzz Aldrin soon joined Armstrong on his famous moonwalk as millions around the world watched in awe. Less than 24 hours after landing, the astronauts began their journey back to Earth, making a splash landing in the Pacific Ocean on July 24. We have liftoff: The Saturn V carrying the Apollo 11 launching from Kennedy Space Center July 16, 1969 . Thank you!: Amazon CEO Jeff Bezos sponsored the hunt for the engines through his Bezos Expeditions .\n",
            "\n",
            "Summary:\n",
            "The engines were recovered three miles below the ocean's surface .\n",
            "The confirmation comes on the 44th anniversary of the famous Apollo 11 voyage .\n",
            "Experts confirmed the engines' origin through serial numbers .\n"
          ],
          "name": "stdout"
        }
      ]
    },
    {
      "cell_type": "markdown",
      "metadata": {
        "id": "OMXHyCLpLofA"
      },
      "source": [
        "## Step 4: Build the Transformer from scratch"
      ]
    },
    {
      "cell_type": "markdown",
      "metadata": {
        "id": "R45lFiPc_pvo"
      },
      "source": [
        "### 4-1 Multi-Head Attention (MHA)"
      ]
    },
    {
      "cell_type": "code",
      "metadata": {
        "id": "3rrhp3ZBKa5K"
      },
      "source": [
        "def MHA(d_model, n_heads, mode = 'train'):\n",
        "\n",
        "    \"\"\"\n",
        "    Multi-Head Attention\n",
        "\n",
        "    Inputs\n",
        "            d_model: <int> dimension of input embedding\n",
        "            n_heads: <int> number of heads of each layer of mha\n",
        "            mode: <str> 'train', 'eval', or 'predict'\n",
        "\n",
        "    Output\n",
        "    \"\"\"\n",
        "\n",
        "    # make sure d_model / n_head = d_k is an integer\n",
        "    assert d_model % n_heads == 0\n",
        "    d_k = d_model // n_heads\n",
        "\n",
        "    def mha_input_func(x):\n",
        "        \"\"\"\n",
        "        The function to reshape the input tensor x\n",
        "        \"\"\"\n",
        "        # the batch_size\n",
        "        batch_size= x.shape[0]\n",
        "        # the input sequence length\n",
        "        seq_len = x.shape[1]\n",
        "        # reshape: (batch_size, seq_len, d_model) --> (batch_size, seq_len, n_heads, d_k)\n",
        "        x = fastnp.reshape(x, (batch_size, seq_len, n_heads, d_k))\n",
        "        # transpose: (batch_size, seq_len, n_heads, d_k) --> (batch_size, d_k, seq_len, n_heads)\n",
        "        x = fastnp.transpose(x, (0, 2, 1, 3))\n",
        "        # reshape: (batch_size, d_k, seq_len, n_heads) --> (batch_size * n_heads, seq_len, d_k)\n",
        "        x = fastnp.reshape(x, (batch_size * n_heads, seq_len, d_k))\n",
        "        return x\n",
        "    \n",
        "    def mha_attention_func(Q, K, V):\n",
        "        \"\"\"\n",
        "        Calculate the attention, given (query, key, value) = (Q, K, V)\n",
        "        \"\"\"\n",
        "        # the size of the mask\n",
        "        mask_size = Q.shape[1]\n",
        "        # create the mask (M)\n",
        "        M = fastnp.tril(fastnp.ones((1, mask_size, mask_size), dtype = fastnp.bool_))\n",
        "        # calculate the scaled dot-product\n",
        "        scaled_dot_product = fastnp.matmul(Q, fastnp.swapaxes(K, 1, 2)) / fastnp.sqrt(d_k)\n",
        "        # apply mask\n",
        "        if M is not None:\n",
        "            scaled_dot_product = fastnp.where(M, scaled_dot_product, fastnp.full_like(scaled_dot_product, -1e9))\n",
        "        # softmax\n",
        "        softmax_scaled_dot_product = fastnp.exp(scaled_dot_product - trax.fastmath.logsumexp(scaled_dot_product, axis = -1, keepdims = True))\n",
        "        # matmul with V\n",
        "        attention = fastnp.matmul(softmax_scaled_dot_product, V)\n",
        "        return attention\n",
        "        \n",
        "    def mha_output_func(x):\n",
        "        \"\"\"\n",
        "        The function to reshape the output tensor x of the attention\n",
        "        x.shape = (batch_size * n_heads, seqlen, d_head)\n",
        "        \"\"\"\n",
        "        # the sequence length\n",
        "        seq_len = x.shape[1]\n",
        "        # reshape: (batch_size * n_heads, seqlen, d_head) --> (batch_size, n_heads, seq_len, d_k)\n",
        "        x = fastnp.reshape(x, (-1, n_heads, seq_len, d_k))\n",
        "        # transpose: (batch_size, n_heads, seq_len, d_k) --> (batch_size, seq_len, n_heads, d_k)\n",
        "        x = fastnp.transpose(x, (0, 2, 1, 3))\n",
        "        # reshape: (batch_size, seq_len, n_heads, d_k) --> (batch_size, seq_len, n_heads * d_k)\n",
        "        x = fastnp.reshape(x, (-1, seq_len, n_heads * d_k))\n",
        "        return x\n",
        "\n",
        "    ## Convert functions to layers\n",
        "    mha_input_layer = tl.Fn(\"mha_input\", mha_input_func, n_out = 1)\n",
        "    mha_attention_layer = tl.Fn(\"mha_attention\", mha_attention_func, n_out = 1)\n",
        "    mha_output_layer = tl.Fn(\"mha_output\", mha_output_func, n_out = 1)\n",
        "\n",
        "    ## MHA layer\n",
        "    MHA_layer = tl.Serial(tl.Branch([tl.Dense(d_model), mha_input_layer],\n",
        "                                    [tl.Dense(d_model), mha_input_layer],\n",
        "                                    [tl.Dense(d_model), mha_input_layer]),\n",
        "                          mha_attention_layer,\n",
        "                          mha_output_layer,\n",
        "                          tl.Dense(d_model))\n",
        "    \n",
        "    return MHA_layer"
      ],
      "execution_count": 9,
      "outputs": []
    },
    {
      "cell_type": "code",
      "metadata": {
        "id": "NvTirjOhW3Nx",
        "outputId": "222ea1cf-0665-4664-80da-55100cb25a9a",
        "colab": {
          "base_uri": "https://localhost:8080/"
        }
      },
      "source": [
        "## Check\n",
        "print(MHA(512, 8, mode = 'train'))"
      ],
      "execution_count": 10,
      "outputs": [
        {
          "output_type": "stream",
          "text": [
            "Serial[\n",
            "  Branch_out3[\n",
            "    [Dense_512, mha_input]\n",
            "    [Dense_512, mha_input]\n",
            "    [Dense_512, mha_input]\n",
            "  ]\n",
            "  mha_attention_in3\n",
            "  mha_output\n",
            "  Dense_512\n",
            "]\n"
          ],
          "name": "stdout"
        }
      ]
    },
    {
      "cell_type": "markdown",
      "metadata": {
        "id": "OBpHghleJIIJ"
      },
      "source": [
        "### 4-2 Single Decoder Layer"
      ]
    },
    {
      "cell_type": "code",
      "metadata": {
        "id": "AuxXe6zyYar-"
      },
      "source": [
        "def DecoderLayer(d_model, d_ff, n_heads, dropout_rate, mode, ff_activation):\n",
        "\n",
        "    \"\"\"\n",
        "    Create a single decoder layer\n",
        "\n",
        "    Inputs\n",
        "            d_model: <int> the dimenstion of embedding\n",
        "            d_ff: <int> number of units in the feed-forward dense layer\n",
        "            n_heads: <int> number of heads of attention\n",
        "            dropout_rate: <float> the rate of dropout\n",
        "            mode: <str> 'train' or 'eval' or 'predict'\n",
        "            ff_activation: <trax layer> the feed-forward activation layer\n",
        "    \"\"\"\n",
        "\n",
        "    ## Multi-Head Attention\n",
        "    Multihead_Attention = MHA(d_model, n_heads, mode)\n",
        "\n",
        "    ## Feed-Forward Block\n",
        "    Feed_Forward_Block = [tl.LayerNorm(),\n",
        "                          tl.Dense(d_ff),\n",
        "                          ff_activation(),\n",
        "                          tl.Dropout(rate = dropout_rate, mode = mode),\n",
        "                          tl.Dense(d_model),\n",
        "                          tl.Dropout(rate = dropout_rate, mode = mode)]\n",
        "    \n",
        "    ## Decoder Layer\n",
        "    decoder_layer = [tl.Residual(tl.LayerNorm(),\n",
        "                                 Multihead_Attention,\n",
        "                                 tl.Dropout(rate = dropout_rate, mode = mode)),\n",
        "                     tl.Residual(Feed_Forward_Block)]\n",
        "\n",
        "    return decoder_layer"
      ],
      "execution_count": 11,
      "outputs": []
    },
    {
      "cell_type": "code",
      "metadata": {
        "id": "n4lVuXktHFiG",
        "outputId": "443cd10a-b5c0-43ef-acc4-0ac85f37174b",
        "colab": {
          "base_uri": "https://localhost:8080/"
        }
      },
      "source": [
        "## Check\n",
        "print(DecoderLayer(512, 2048, 8, 0.1, 'train', tl.Relu))"
      ],
      "execution_count": 12,
      "outputs": [
        {
          "output_type": "stream",
          "text": [
            "[Serial[\n",
            "  Branch_out2[\n",
            "    None\n",
            "    Serial[\n",
            "      LayerNorm\n",
            "      Serial[\n",
            "        Branch_out3[\n",
            "          [Dense_512, mha_input]\n",
            "          [Dense_512, mha_input]\n",
            "          [Dense_512, mha_input]\n",
            "        ]\n",
            "        mha_attention_in3\n",
            "        mha_output\n",
            "        Dense_512\n",
            "      ]\n",
            "      Dropout\n",
            "    ]\n",
            "  ]\n",
            "  Add_in2\n",
            "], Serial[\n",
            "  Branch_out2[\n",
            "    None\n",
            "    Serial[\n",
            "      LayerNorm\n",
            "      Dense_2048\n",
            "      Relu\n",
            "      Dropout\n",
            "      Dense_512\n",
            "      Dropout\n",
            "    ]\n",
            "  ]\n",
            "  Add_in2\n",
            "]]\n"
          ],
          "name": "stdout"
        }
      ]
    },
    {
      "cell_type": "markdown",
      "metadata": {
        "id": "Qu8CHPJJGaCY"
      },
      "source": [
        "### 4-3 Complete Transformer"
      ]
    },
    {
      "cell_type": "code",
      "metadata": {
        "id": "1rJaYorTGbRi"
      },
      "source": [
        "def TransformerLM(vocab_size = 33000, d_model = 512, d_ff = 2048, n_layers = 6, n_heads = 8,\n",
        "                  dropout_rate = 0.1, max_len = 2*MAX_DATA_LENGTH, mode = 'train', ff_activation = tl.Relu):\n",
        "    \n",
        "    \"\"\"\n",
        "    Create the Transformer model\n",
        "\n",
        "    Inputs\n",
        "            vocab_size: <int> size of the vocabulary\n",
        "            d_model: <int> dimensiton of embedding\n",
        "            d_ff: <int> number of units of the feed-forward layer\n",
        "            n_layer: <int> number of encoder/decoder layers\n",
        "            n_heads: <int> number of attention heads\n",
        "            dropout_rate: <float> rate of dropout layer\n",
        "            max_len: <int> max length for positional encoding\n",
        "            mode: <str> 'train', 'eval', or 'predict'\n",
        "            ff_activation: <trax layer> the activation layer of the feed-forward layer\n",
        "    \"\"\"\n",
        "    \n",
        "    ## Positional Encoding\n",
        "    Positional_Encoder = [tl.Embedding(vocab_size = vocab_size, d_feature = d_model),\n",
        "                          tl.Dropout(rate = dropout_rate, mode = mode),\n",
        "                          tl.PositionalEncoding(max_len = max_len, mode = mode)]\n",
        "    \n",
        "    ## Decoder\n",
        "    Transformer_Decoder = [DecoderLayer(d_model, d_ff, n_heads, dropout_rate, mode, ff_activation) for _ in range(n_layers)]\n",
        "\n",
        "    ## Transformer model\n",
        "    model = tl.Serial(tl.ShiftRight(mode = mode),\n",
        "                      Positional_Encoder,\n",
        "                      Transformer_Decoder,\n",
        "                      tl.LayerNorm(),\n",
        "                      tl.Dense(vocab_size),\n",
        "                      tl.LogSoftmax())\n",
        "    \n",
        "    return model"
      ],
      "execution_count": 13,
      "outputs": []
    },
    {
      "cell_type": "code",
      "metadata": {
        "id": "3P_Qm2PqHgYF",
        "outputId": "71a70810-3003-4bff-8fbc-6a414a991936",
        "colab": {
          "base_uri": "https://localhost:8080/"
        }
      },
      "source": [
        "## Check\n",
        "print(TransformerLM(n_layers = 2))"
      ],
      "execution_count": 14,
      "outputs": [
        {
          "output_type": "stream",
          "text": [
            "Serial[\n",
            "  Serial[\n",
            "    AssertShape\n",
            "    ShiftRight(1)\n",
            "    AssertShape\n",
            "  ]\n",
            "  Embedding_33000_512\n",
            "  Dropout\n",
            "  PositionalEncoding\n",
            "  Serial[\n",
            "    Branch_out2[\n",
            "      None\n",
            "      Serial[\n",
            "        LayerNorm\n",
            "        Serial[\n",
            "          Branch_out3[\n",
            "            [Dense_512, mha_input]\n",
            "            [Dense_512, mha_input]\n",
            "            [Dense_512, mha_input]\n",
            "          ]\n",
            "          mha_attention_in3\n",
            "          mha_output\n",
            "          Dense_512\n",
            "        ]\n",
            "        Dropout\n",
            "      ]\n",
            "    ]\n",
            "    Add_in2\n",
            "  ]\n",
            "  Serial[\n",
            "    Branch_out2[\n",
            "      None\n",
            "      Serial[\n",
            "        LayerNorm\n",
            "        Dense_2048\n",
            "        Relu\n",
            "        Dropout\n",
            "        Dense_512\n",
            "        Dropout\n",
            "      ]\n",
            "    ]\n",
            "    Add_in2\n",
            "  ]\n",
            "  Serial[\n",
            "    Branch_out2[\n",
            "      None\n",
            "      Serial[\n",
            "        LayerNorm\n",
            "        Serial[\n",
            "          Branch_out3[\n",
            "            [Dense_512, mha_input]\n",
            "            [Dense_512, mha_input]\n",
            "            [Dense_512, mha_input]\n",
            "          ]\n",
            "          mha_attention_in3\n",
            "          mha_output\n",
            "          Dense_512\n",
            "        ]\n",
            "        Dropout\n",
            "      ]\n",
            "    ]\n",
            "    Add_in2\n",
            "  ]\n",
            "  Serial[\n",
            "    Branch_out2[\n",
            "      None\n",
            "      Serial[\n",
            "        LayerNorm\n",
            "        Dense_2048\n",
            "        Relu\n",
            "        Dropout\n",
            "        Dense_512\n",
            "        Dropout\n",
            "      ]\n",
            "    ]\n",
            "    Add_in2\n",
            "  ]\n",
            "  LayerNorm\n",
            "  Dense_33000\n",
            "  LogSoftmax\n",
            "]\n"
          ],
          "name": "stdout"
        }
      ]
    },
    {
      "cell_type": "markdown",
      "metadata": {
        "id": "jhytKJc_n9TZ"
      },
      "source": [
        "## Step 5: Train the Transformer"
      ]
    },
    {
      "cell_type": "markdown",
      "metadata": {
        "id": "faTRFS1PHs2A"
      },
      "source": [
        "### 5-1 Define Loop"
      ]
    },
    {
      "cell_type": "markdown",
      "metadata": {
        "id": "NyJ7L8dgyxJq"
      },
      "source": [
        "| d_model | d_ff | n_layers | Acc (20k) | Acc (50k) | Acc (100k) |\n",
        "|---|---|---|---|---|---|\n",
        "| 128 | 512 | 2 | ? | ? | ? |\n",
        "| 256 | 512 | 2 | ? | ? | ? |\n",
        "| 128 | 512 | 4 | ? | ? | ? |\n",
        "| 128 | 1024 | 2 | 0.262| 0.405 | 0.369 |\n",
        "| 256 | 512 | 4 |0.303| 0.318 | ? |\n",
        "| 512 | 1024 | 4 | 0.143 | 0.245 | ? |\n",
        "| 512 | 512 | 6 | 0.193 | 0.272 | 0.360 |\n",
        "| 512 | 1024 | 6 | 0.164 | 0.271 | 0.250 |"
      ]
    },
    {
      "cell_type": "code",
      "metadata": {
        "id": "ZqlFARpzn-aM"
      },
      "source": [
        "def create_loop(TransformerLM, train_generator, eval_generator, d_model = 512, d_ff = 2048, n_layers = 6, n_warmup_steps = 4000, max_value_scaling = 1.0):\n",
        "\n",
        "    \"\"\"\n",
        "    Create the loop object\n",
        "\n",
        "    Inputs\n",
        "            TransformerLM: <trax model> the Transformer model\n",
        "            train-train_generator: <trax stream> the training stream\n",
        "            eval_generator: <trax stream> the evaluation stream\n",
        "            d_model: <int> dimension of embedding\n",
        "    \"\"\"\n",
        "\n",
        "    ## Learning rate schedule\n",
        "    max_value = max_value_scaling/np.sqrt(d_model*n_warmup_steps)\n",
        "    lr_schedule = trax.lr.warmup_and_rsqrt_decay(n_warmup_steps = n_warmup_steps, max_value = max_value)\n",
        "\n",
        "    ## traing task\n",
        "    train_task = training.TrainTask(labeled_data = train_generator,\n",
        "                                    loss_layer = tl.CrossEntropyLoss(),\n",
        "                                    optimizer = trax.optimizers.Adam(max_value),\n",
        "                                    lr_schedule = lr_schedule,\n",
        "                                    n_steps_per_checkpoint = 10000)\n",
        "\n",
        "    ## plot lr_schedule\n",
        "    steps = []\n",
        "    lrs = []\n",
        "    for i in range(1,100000+1):\n",
        "        if i % 100 == 1:\n",
        "            steps.append(i)\n",
        "            lrs.append(float(train_task.learning_rate(i)))\n",
        "\n",
        "    plt.figure()\n",
        "    plt.plot(steps, lrs)\n",
        "    plt.title(\"lr schedule\")\n",
        "    plt.show()\n",
        "\n",
        "    ## evaluation task\n",
        "    eval_task = training.EvalTask(labeled_data = eval_generator,\n",
        "                                  metrics = [tl.CrossEntropyLoss(), tl.Accuracy()])\n",
        "    \n",
        "    ## create the loop object\n",
        "    # parameters of the original paper: d_model = 512, d_ff = 2048, n_layers = 6, n_heads = 8, dropout_rate = 0.1\n",
        "\n",
        "    loop = training.Loop(TransformerLM(vocab_size = 33000,\n",
        "                                       d_model = d_model,\n",
        "                                       d_ff = d_ff,\n",
        "                                       n_layers = n_layers,\n",
        "                                       n_heads = 8,\n",
        "                                       dropout_rate = 0.1,\n",
        "                                       max_len = 2*MAX_DATA_LENGTH,\n",
        "                                       mode = 'train',\n",
        "                                       ff_activation = tl.Relu),\n",
        "                         train_task,\n",
        "                         eval_tasks = [eval_task],\n",
        "                         output_dir = '.')\n",
        "    \n",
        "    return loop"
      ],
      "execution_count": 57,
      "outputs": []
    },
    {
      "cell_type": "code",
      "metadata": {
        "id": "lNMWtHhgF2Fk"
      },
      "source": [
        "## This box needs to be executed if training_loop has been run before\n",
        "!rm model.pkl.gz\n",
        "!rm config.gin\n",
        "!rm -r train\n",
        "!rm -r eval"
      ],
      "execution_count": 59,
      "outputs": []
    },
    {
      "cell_type": "code",
      "metadata": {
        "id": "2ykjv8miF4aE",
        "outputId": "db300757-7b0c-422c-838c-f1f311372a4f",
        "colab": {
          "base_uri": "https://localhost:8080/",
          "height": 281
        }
      },
      "source": [
        "loop = create_loop(TransformerLM, train_stream, test_stream, d_model = 512, d_ff = 1024, n_layers = 6, n_warmup_steps = 4000, max_value_scaling = 0.1)"
      ],
      "execution_count": 58,
      "outputs": [
        {
          "output_type": "display_data",
          "data": {
            "image/png": "[encoded data removed]",
            "text/plain": [
              "<Figure size 432x288 with 1 Axes>"
            ]
          },
          "metadata": {
            "tags": [],
            "needs_background": "light"
          }
        }
      ]
    },
    {
      "cell_type": "code",
      "metadata": {
        "id": "GRmwz9pHOxz2",
        "outputId": "6da2d50e-cf20-40de-dae8-64e1b858b5d7",
        "colab": {
          "base_uri": "https://localhost:8080/"
        }
      },
      "source": [
        "loop.run(100000)"
      ],
      "execution_count": 60,
      "outputs": [
        {
          "output_type": "stream",
          "text": [
            "\n",
            "Step  410000: Ran 10000 train steps in 752.92 secs\n",
            "Step  410000: train CrossEntropyLoss |  2.65430570\n",
            "Step  410000: eval  CrossEntropyLoss |  2.81403160\n",
            "Step  410000: eval          Accuracy |  0.60992908\n",
            "\n",
            "Step  420000: Ran 10000 train steps in 683.06 secs\n",
            "Step  420000: train CrossEntropyLoss |  2.76288652\n",
            "Step  420000: eval  CrossEntropyLoss |  3.87202978\n",
            "Step  420000: eval          Accuracy |  0.37419355\n",
            "\n",
            "Step  430000: Ran 10000 train steps in 687.89 secs\n",
            "Step  430000: train CrossEntropyLoss |  2.89239478\n",
            "Step  430000: eval  CrossEntropyLoss |  2.93339944\n",
            "Step  430000: eval          Accuracy |  0.58469945\n",
            "\n",
            "Step  440000: Ran 10000 train steps in 686.85 secs\n",
            "Step  440000: train CrossEntropyLoss |  2.99948788\n",
            "Step  440000: eval  CrossEntropyLoss |  3.10649848\n",
            "Step  440000: eval          Accuracy |  0.56521738\n",
            "\n",
            "Step  450000: Ran 10000 train steps in 688.12 secs\n",
            "Step  450000: train CrossEntropyLoss |  3.10495377\n",
            "Step  450000: eval  CrossEntropyLoss |  2.57429194\n",
            "Step  450000: eval          Accuracy |  0.62992126\n",
            "\n",
            "Step  460000: Ran 10000 train steps in 687.01 secs\n",
            "Step  460000: train CrossEntropyLoss |  3.17745423\n",
            "Step  460000: eval  CrossEntropyLoss |  2.83458066\n",
            "Step  460000: eval          Accuracy |  0.54374999\n",
            "\n",
            "Step  470000: Ran 10000 train steps in 690.82 secs\n",
            "Step  470000: train CrossEntropyLoss |  3.23681879\n",
            "Step  470000: eval  CrossEntropyLoss |  3.24042892\n",
            "Step  470000: eval          Accuracy |  0.53061223\n",
            "\n",
            "Step  480000: Ran 10000 train steps in 689.70 secs\n",
            "Step  480000: train CrossEntropyLoss |  3.40045452\n",
            "Step  480000: eval  CrossEntropyLoss |  3.69437146\n",
            "Step  480000: eval          Accuracy |  0.45121950\n",
            "\n",
            "Step  490000: Ran 10000 train steps in 694.42 secs\n",
            "Step  490000: train CrossEntropyLoss |  3.48499346\n",
            "Step  490000: eval  CrossEntropyLoss |  3.37593293\n",
            "Step  490000: eval          Accuracy |  0.42331287\n",
            "\n",
            "Step  500000: Ran 10000 train steps in 695.79 secs\n",
            "Step  500000: train CrossEntropyLoss |  3.54652095\n",
            "Step  500000: eval  CrossEntropyLoss |  3.19456267\n",
            "Step  500000: eval          Accuracy |  0.56981134\n"
          ],
          "name": "stdout"
        }
      ]
    },
    {
      "cell_type": "markdown",
      "metadata": {
        "id": "037GZ6qG8t2o"
      },
      "source": [
        "## Step 6: Evaluation"
      ]
    },
    {
      "cell_type": "markdown",
      "metadata": {
        "id": "NNUxaRRzLKBm"
      },
      "source": [
        "### 6-1 Helper Function to determine the next token"
      ]
    },
    {
      "cell_type": "code",
      "metadata": {
        "id": "jVtBDEFJKA-2"
      },
      "source": [
        "def generate_next_token(current_tokens, model):\n",
        "\n",
        "    \"\"\"\n",
        "    Generate the next token\n",
        "    \n",
        "    Inputs\n",
        "            current_tokens: <list of int> currently generated token so far\n",
        "            model: <trax model> the model for the prediction\n",
        "    \n",
        "    Output\n",
        "            next_token: <int> the next token generated by the model\n",
        "    \"\"\"\n",
        "\n",
        "    # number of tokens generated so far\n",
        "    current_tokens_length = len(current_tokens)\n",
        "    \n",
        "    # find the next power of 2 to be the final length after padding\n",
        "    final_padded_length = 2**int(np.ceil(np.log2(current_tokens_length + 1)))\n",
        "\n",
        "    # caucluate the number of zeros to pad\n",
        "    to_pad_length = final_padded_length - current_tokens_length\n",
        "\n",
        "    # pad 0s, convert to ndarry, and add a batch dimension of at axis = 0\n",
        "    padded_current_tokens = np.array(current_tokens + [0 for _ in range(to_pad_length)])[None, :]\n",
        "\n",
        "    # use the model to predict the log probabilities of the next token\n",
        "    model_output, _ = model((padded_current_tokens, padded_current_tokens))\n",
        "\n",
        "    # (note) model_output has shape (batch_size, len_of_whole_token_list, vocab_size)\n",
        "    # only take the log probability distribution of the last token\n",
        "    next_token_logprob = model_output[0, current_tokens_length, :]\n",
        "\n",
        "    # select the token with the largest log probability\n",
        "    next_token = int(np.argmax(next_token_logprob))\n",
        "\n",
        "    return next_token\n"
      ],
      "execution_count": 26,
      "outputs": []
    },
    {
      "cell_type": "markdown",
      "metadata": {
        "id": "Ahe5N9TZMcEt"
      },
      "source": [
        "### 6-2 The summarizer"
      ]
    },
    {
      "cell_type": "code",
      "metadata": {
        "id": "sJ32nhH48wwc"
      },
      "source": [
        "def summarize(article, model):\n",
        "\n",
        "    \"\"\"\n",
        "    Summarize the article\n",
        "\n",
        "    Inputs \n",
        "            article: <str> the article\n",
        "            model: <trax model> the summarizer model\n",
        "\n",
        "    Output\n",
        "            summary: <str> the summary\n",
        "    \"\"\"\n",
        "\n",
        "    current_tokens = tokenize(article).tolist() + [1, 0]\n",
        "\n",
        "    generated_summary_tokens = []\n",
        "\n",
        "    last_output_token = 0\n",
        "\n",
        "    while last_output_token != 1:\n",
        "        next_output_token = generate_next_token(current_tokens, model)\n",
        "        current_tokens.append(next_output_token)\n",
        "        generated_summary_tokens.append(next_output_token)\n",
        "        last_output_token = next_output_token\n",
        "\n",
        "        if len(current_tokens) == 4096:\n",
        "            break\n",
        "\n",
        "    summary = trax.data.detokenize(generated_summary_tokens, vocab_file = 'en_32k.subword')\n",
        "\n",
        "    return summary\n"
      ],
      "execution_count": 27,
      "outputs": []
    },
    {
      "cell_type": "markdown",
      "metadata": {
        "id": "CMVaG0gVOLxV"
      },
      "source": [
        "### 6-3 Summarize an article"
      ]
    },
    {
      "cell_type": "code",
      "metadata": {
        "id": "7IFbT8u1bygY"
      },
      "source": [
        "## Load the model\n",
        "\n",
        "article_summarizer = loop.model\n",
        "article_summarizer.mode = \"predict\""
      ],
      "execution_count": 39,
      "outputs": []
    },
    {
      "cell_type": "markdown",
      "metadata": {
        "id": "kVA-1G5tibYP"
      },
      "source": [
        "#### 5-3-1 Predict on the training dataset"
      ]
    },
    {
      "cell_type": "code",
      "metadata": {
        "id": "DfBuDjZbia4M",
        "outputId": "abbedcb1-c28c-4128-95dc-b79a848b0875",
        "colab": {
          "base_uri": "https://localhost:8080/"
        }
      },
      "source": [
        "test_sample = next(train_stream_generator)\n",
        "\n",
        "test_article = test_sample[0]\n",
        "test_summary = test_sample[1]\n",
        "\n",
        "if len(tokenize(test_article)) >= 2*MAX_DATA_LENGTH:\n",
        "    print(\"input too long\")\n",
        "else:\n",
        "    print(\"article:\")\n",
        "    print(test_article)\n",
        "\n",
        "    print(\"\\nactual summary:\")\n",
        "    print(test_summary)\n",
        "\n",
        "    print(\"\\npredict summary:\")\n",
        "    print(summarize(test_article, article_summarizer))"
      ],
      "execution_count": 61,
      "outputs": [
        {
          "output_type": "stream",
          "text": [
            "article:\n",
            "b\"By . David Mccormack . PUBLISHED: . 09:02 EST, 26 September 2013 . | . UPDATED: . 12:44 EST, 26 September 2013 . A 16-year-old cheerleader with Down syndrome was called a liability by school officials in Deer Park, Texas, and prevented from joining the rest of her squad pitch-side on Tuesday night. Brittany Davila, a freshman at Deer Park High School, recently made the team as an honorary cheerleader. When she and her parents arrived for Tuesday night\\xe2\\x80\\x99s volleyball game, school officials told them Brittany could no longer be part of the team because she was a liability. Scroll down for video . Brittany Davila, a 16-year-old cheerleader with Down syndrome, was forced to cheer from the stands on Tuesday night after school officials in Deer Park, Texas, called her a 'liability' Freshman Brittany Davila was recently made an honorary cheerleader, but she was prevented her from performing pitch-side on Tuesday night . \\xe2\\x80\\x98Being a parent of a child with special needs, the last thing you want to hear is your kid is a liability for any reason,\\xe2\\x80\\x99 Mom Buffy Davila told Click2Houston. Despite showing up at the game in full uniform, Brittany was told to sit in the stands. \\xe2\\x80\\x98She didn\\xe2\\x80\\x99t understand what changed from last week to this week,\\xe2\\x80\\x99 her father Ruben told KHOU. \\xe2\\x80\\x98She was cheering along with them in the stands. She was excited, waving at them and blowing kisses.\\xe2\\x80\\x99 On Wednesday Brittany\\xe2\\x80\\x99s parents met with school officials to hear why they had decided that their daughter was a liability. School officials told Buffy and Ruben Davila that their daughter Brittany couldn't be part of the cheerleading team because she might get hit by a player or the ball . Brittany has been cheering since junior high and hopes to continue all the way through high school . School officials expressed their concerns about Brittany's safety and that she might get run over by a player or accidentally hit by the ball. The Davilas said their daughter was no more of a liability than any other member of the cheer leading squad. \\xe2\\x80\\x98She's no more of a safety risk, or however you want to word it, than any of the other cheerleaders that are standing on the sideline,\\xe2\\x80\\x99 said Mrs. Davila. In the end a resolution was reached which addressed the school's concerns, but also allows Brittany to continue with the activity that she loves. Brittany has been cheering since junior high and hopes to continue all the way through high school. \\xe2\\x80\\x98These kids are people, just like everybody else,\\xe2\\x80\\x99 said Mrs. Davila. \\xe2\\x80\\x98They don't want to be treated different. They want to be treated just like the rest of the kids that are around them.\\xe2\\x80\\x99 video platformvideo managementvideo solutionsvideo player . After Brittany's parents met with officials at Deer Park High School they relented and now the young girl will be able to perform with the cheerleaders .\"\n",
            "\n",
            "actual summary:\n",
            "b'Brittany Davila, 16, was recently made an honorary member of the freshman cheerleading squad at Deer Park High School .\\nBut on Tuesday she was forced to cheer from the stands after school officials said she was a liability .\\nHer parents argued that she is no more a liability than any other member of the squad and the school has relented .'\n",
            "\n",
            "predict summary:\n",
            "Brittany Davila, a freshman at Deer Park High School, Texas, and then went for the rest of her squad .\n",
            "She was recently made an honorary cheerleader with a boy or the ball .\n",
            "She was recently made an honorary cheerleader, but she was told to cheer from the stands on Tuesday night .\n",
            "The school officials said they had to cheer from the stands on Tuesday night .\n",
            "Brittany's parents met with officials at Deer Park High School officials in Deer Park, Texas .\n"
          ],
          "name": "stdout"
        }
      ]
    },
    {
      "cell_type": "markdown",
      "metadata": {
        "id": "TrpFBoayO7zu"
      },
      "source": [
        "#### 5-3-2 Test dataset article"
      ]
    },
    {
      "cell_type": "code",
      "metadata": {
        "id": "_LcWnnuBO3jL",
        "outputId": "27e063f7-2761-426c-9033-6c773740b529",
        "colab": {
          "base_uri": "https://localhost:8080/"
        }
      },
      "source": [
        "test_sample = next(test_stream_generator)\n",
        "\n",
        "test_article = test_sample[0]\n",
        "test_summary = test_sample[1]\n",
        "\n",
        "if len(tokenize(test_article)) >= 2*MAX_DATA_LENGTH-3:\n",
        "    print(\"input too long\")\n",
        "else:\n",
        "    print(\"article:\")\n",
        "    print(test_article)\n",
        "\n",
        "    print(\"\\nactual summary:\")\n",
        "    print(test_summary)\n",
        "\n",
        "    print(\"\\npredict summary:\")\n",
        "    print(summarize(test_article, article_summarizer))"
      ],
      "execution_count": 62,
      "outputs": [
        {
          "output_type": "stream",
          "text": [
            "article:\n",
            "b\"The NFL have fined the Atlanta Falcons and stripped them of a draft pick  following the team's use of fake crowd noise at home games. In a statement released on Monday, the league announced that the Falcons have been fined $350,000 (\\xc2\\xa3237,000)\\xc2\\xa0and will forfeit their fifth-round selection in the 2016 draft. If the Falcons have multiple picks in that round, the highest selection will be forfeited. Team president Rich McKay has also been suspended from the league's Competition Committee beginning April 1. Atlanta Falcons have been fined \\xc2\\xa3237,000 for their use of fake crowd noise at the Georgia Dome . Owner Arthur Blank acknowledged the team's wrongdoing and described the incident as embarrassing . The NFL noted throughout the 2013 season and into the 2014 season the Falcons violated league rules that state 'at no point during the game can artificial crowd noise or amplified crowd noise be played in the stadium.' The league also said Roddy White, the team's former director of event marketing, was directly responsible for the violation and would have been suspended without pay for the first eight weeks of the 2015 regular season had he still been with the club. The Falcons fired him. The league determined that Falcons ownership and senior executives, including McKay, were unaware of the use of an audio file with artificial crowd noise. But as the senior club executive overseeing game operations, McKay bears some responsibility for ensuring that team employees comply with league rules. McKay can petition Commissioner Roger Goodell for reinstatement to the committee no sooner than June 30. The Falcons played fake crowd noise during the 2013 and 2014 seasons . Falcons president Rick McKay has been suspended from his position on NFL Competition Committee . Falcons owner Arthur Blank said in early February that he had seen enough of the NFL's investigation to acknowledge wrongdoing by his club. 'It's not really a fine line,' Blank said. 'I think what we've done in 2013 and 2014 was wrong. Anything that affects the competitive balance and fairness on the field, we're opposed to, as a league, as a club and as an owner. It's obviously embarrassing but beyond embarrassing it doesn't represent our culture and what we're about.' The Falcons say 101 of 103 games have been sellouts since Blank bought the team in 2002. Actual turnouts declined during losing seasons the last two years. Atlanta ranked 10th among the 32 NFL teams with its average home attendance of 72,130 in 2014. Construction is underway for a new $1.4 billion stadium that will replace the Georgia Dome in 2017. The new stadium will have a similar seating capacity.\"\n",
            "\n",
            "actual summary:\n",
            "b'Atlanta Falcons played fake crowd noise during 2013 and 2014 season .\\nFalcons fined $350,000 (\\xc2\\xa3237,000) and been stripped of a 2016 draft pick .\\nPresident Rich McKay has been suspended from Competition Committee .'\n",
            "\n",
            "predict summary:\n",
            "Atlanta Falcons will forfeit their fifth-round selection in the 2016 draft .\n",
            "Falcons have been fined £280,000 for their use of fake crowd noise .\n",
            "The Falcons have been fined £280,000 for their use of fake crowd noise .\n",
            "The Falcons have been fined £280,000 for their use of fake crowd noise .\n"
          ],
          "name": "stdout"
        }
      ]
    },
    {
      "cell_type": "markdown",
      "metadata": {
        "id": "lSyzbwoeRCqG"
      },
      "source": [
        "#### 5-3-3 Custom article\n",
        "\n",
        "The article below comes from a lab [website](https://neurophysics.ucsd.edu/active_sensation.php):\n",
        "\n"
      ]
    },
    {
      "cell_type": "code",
      "metadata": {
        "id": "t4x4mB9iRMC-",
        "outputId": "8b958e38-27d7-41f9-af61-1f46ed232dce",
        "colab": {
          "base_uri": "https://localhost:8080/"
        }
      },
      "source": [
        "custom_article = \"\"\"At the level of the brain stem, we identified the circuit responsible for generating the rhythmic pattern that drives the facial motoneurons \\\n",
        "and thus whisking (bottom figure). Interestingly, this structure receives input from the respiratory rhythm generator and, is fact, is reset by the onset of \\\n",
        "inspiration. In a second project, we identified a sensorimotor feedback pathway involved in active vibrissa contact. The results from behavioral, physiological, \\\n",
        "and anatomical experiments show that contact leads to a positive signal that further drives the mystacial musculature. Ultimately, the system adapts and feedback \\\n",
        "diminishes. In ongoing work, we seek the pathway that controls the midpoint, or posture, of the vibrissae. \\n At the level of the neocortex, we identified the nature \\\n",
        "and origin of reference signals for vibrissa position in both primary sensory and motor cortices. These signals are essential determinates of the position of the vibrissae. \\\n",
        "Interestingly, neurons in primary sensory cortex code position in coordinates that are referenced to the range of motion rather than to the body axis of the animal. \\\n",
        "These data, together with the results of behavioral studies to demonstrate that rats with only a single vibrissa can detect the angle of contact and physiology experiments \\\n",
        "that demonstrates that reafferent and exafferent signals share a common pathway, define a means to merge reference and touch signals to code vibrissa position. Indeed, our \\\n",
        "recent shows that this merge occurs in primary sensory cortex. Ongoing work suggest that a strong nonlinear input-output relation in neurons is responsible for the merge \\\n",
        "similar to homodyne detection in communication.\"\"\"\n",
        "\n",
        "print(\"Length of tokenized input = {}\".format(len(tokenize(custom_article))))\n",
        "print(\"Ending token = {}\".format(tokenize(custom_article)[-1]))\n",
        "\n",
        "print(\"\\nArticle:\")\n",
        "print(custom_article)\n",
        "\n",
        "print(\"\\nSummary:\")\n",
        "print(summarize(custom_article, article_summarizer))"
      ],
      "execution_count": 63,
      "outputs": [
        {
          "output_type": "stream",
          "text": [
            "Length of tokenized input = 361\n",
            "Ending token = 11\n",
            "\n",
            "Article:\n",
            "At the level of the brain stem, we identified the circuit responsible for generating the rhythmic pattern that drives the facial motoneurons and thus whisking (bottom figure). Interestingly, this structure receives input from the respiratory rhythm generator and, is fact, is reset by the onset of inspiration. In a second project, we identified a sensorimotor feedback pathway involved in active vibrissa contact. The results from behavioral, physiological, and anatomical experiments show that contact leads to a positive signal that further drives the mystacial musculature. Ultimately, the system adapts and feedback diminishes. In ongoing work, we seek the pathway that controls the midpoint, or posture, of the vibrissae. \n",
            " At the level of the neocortex, we identified the nature and origin of reference signals for vibrissa position in both primary sensory and motor cortices. These signals are essential determinates of the position of the vibrissae. Interestingly, neurons in primary sensory cortex code position in coordinates that are referenced to the range of motion rather than to the body axis of the animal. These data, together with the results of behavioral studies to demonstrate that rats with only a single vibrissa can detect the angle of contact and physiology experiments that demonstrates that reafferent and exafferent signals share a common pathway, define a means to merge reference and touch signals to code vibrissa position. Indeed, our recent shows that this merge occurs in primary sensory cortex. Ongoing work suggest that a strong nonlinear input-output relation in neurons is responsible for the merge similar to homodyne detection in communication.\n",
            "\n",
            "Summary:\n",
            "The results from the process of the same-time .\n",
            "It's the system of the animal .\n",
            "This is the first project to be identified as a key reason .\n"
          ],
          "name": "stdout"
        }
      ]
    },
    {
      "cell_type": "code",
      "metadata": {
        "id": "O09UIfKxurS8"
      },
      "source": [
        ""
      ],
      "execution_count": null,
      "outputs": []
    }
  ]
}